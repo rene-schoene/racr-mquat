{
 "cells": [
  {
   "cell_type": "code",
   "execution_count": 21,
   "metadata": {
    "collapsed": false
   },
   "outputs": [],
   "source": [
    "import numpy as np\n",
    "import matplotlib.pyplot as plt\n",
    "import matplotlib.axes\n",
    "%matplotlib inline\n",
    "plt.ioff()"
   ]
  },
  {
   "cell_type": "code",
   "execution_count": 39,
   "metadata": {
    "collapsed": false
   },
   "outputs": [],
   "source": [
    "from glob import glob\n",
    "from datetime import datetime\n",
    "from itertools import *\n",
    "from operator import itemgetter\n",
    "import json"
   ]
  },
  {
   "cell_type": "code",
   "execution_count": 3,
   "metadata": {
    "collapsed": false
   },
   "outputs": [],
   "source": [
    "spec_files = glob('profiling/*/specs')\n",
    "spec_files.sort()\n",
    "specs = [np.genfromtxt(f, delimiter=' ', dtype=int)\n",
    "         for f in spec_files]"
   ]
  },
  {
   "cell_type": "code",
   "execution_count": 4,
   "metadata": {
    "collapsed": false
   },
   "outputs": [],
   "source": [
    "linestyles = [\"-\",\"--\",\"-.\",\":\"]\n",
    "colors = ('blue','black','red','orange','green','magenta','yellow', 'cyan', 'purple', 'firebrick')\n",
    "colorcycle = cycle(colors)\n",
    "lastpe = False\n",
    "line_def = []\n",
    "color_def = []\n",
    "for spec in specs:\n",
    "    pe, comp, impl, mode = (spec[2], spec[4], spec[5], spec[6])\n",
    "    if not lastpe or lastpe != pe:\n",
    "        color = next(colorcycle)\n",
    "        linecycle = cycle(linestyles)\n",
    "    line  = next(linecycle)\n",
    "    lastpe = pe\n",
    "    line_def.append(line)\n",
    "    color_def.append(color)"
   ]
  },
  {
   "cell_type": "code",
   "execution_count": 5,
   "metadata": {
    "collapsed": false
   },
   "outputs": [],
   "source": [
    "def set_keys(*indices):\n",
    "    \"\"\"Returns a function that returns a tuple of key values\"\"\"\n",
    "    def get_keys(seq, indices=indices):\n",
    "        keys = []\n",
    "        for i in indices:\n",
    "            keys.append(seq[i])\n",
    "        return tuple(keys)\n",
    "    return get_keys"
   ]
  },
  {
   "cell_type": "code",
   "execution_count": 6,
   "metadata": {
    "collapsed": false
   },
   "outputs": [],
   "source": [
    "def get_average_times(dat, dirCol, stepCol, timeCol):\n",
    "    dat.sort(order=['dir', 'step'])\n",
    "    result = {}\n",
    "    for (c_dir, c_step), rows in groupby(dat, key=set_keys('dir','step')):\n",
    "        #print c_dir, c_step, rows\n",
    "        c_dir, c_step, total_time, counter = None, None, 0, 0\n",
    "        for row in rows:\n",
    "            if not c_dir:\n",
    "                c_dir = row[dirCol]\n",
    "            if not c_step:\n",
    "                c_step = row[stepCol]\n",
    "            total_time+=row[timeCol]\n",
    "            counter += 1\n",
    "        result.setdefault(c_dir, []).append([c_step, total_time*1.0/counter])\n",
    "    result2 = []\n",
    "    for c_dir, rows in result.iteritems():\n",
    "        inner = []\n",
    "        for row in rows:\n",
    "            inner.append(row[1])\n",
    "        result2.append(inner)\n",
    "    return np.array([np.array(rows) for rows in result2])"
   ]
  },
  {
   "cell_type": "code",
   "execution_count": 7,
   "metadata": {
    "collapsed": false
   },
   "outputs": [],
   "source": [
    "def is_axis(a):\n",
    "    return not type(a) is np.ndarray"
   ]
  },
  {
   "cell_type": "markdown",
   "metadata": {},
   "source": [
    "Header = ['timestamp', 'dir', 'step', 'ilp-gen']"
   ]
  },
  {
   "cell_type": "code",
   "execution_count": 8,
   "metadata": {
    "collapsed": true
   },
   "outputs": [],
   "source": [
    "def read_results(prefix, name, dtype, data_column, since):\n",
    "    f = 'profiling/{0}-{1}-results.csv'.format(prefix, name)\n",
    "    def mkdate(text):\n",
    "        return datetime.strptime(text, '%Y-%m-%dT%H:%M:%S.%f')\n",
    "    def mkstep(text):\n",
    "        return int(text[0:2])\n",
    "    dat = np.genfromtxt(f, delimiter=',', names=True, dtype=dtype, converters={'timestamp':mkdate, 'step':mkstep})\n",
    "    if since:\n",
    "        dat = dat[dat['timestamp'] > since ]\n",
    "    dat2 = get_average_times(dat, 1, 2, data_column).transpose()\n",
    "    print 'Loaded {0} records for {1} ({2[0]}x{2[1]} unique) ~= {3} run(s)'.format(\n",
    "        len(dat), name, dat2.shape, len(dat)/dat2.size)\n",
    "    return dat2"
   ]
  },
  {
   "cell_type": "markdown",
   "metadata": {},
   "source": [
    "# Need testing, if still working with change kinds"
   ]
  },
  {
   "cell_type": "code",
   "execution_count": 9,
   "metadata": {
    "collapsed": false
   },
   "outputs": [],
   "source": [
    "def read_gen_results(impl, since = None):\n",
    "    return read_results('gen', impl, ('datetime64[us]', int, int, float), 3, since)\n",
    "def read_sol_results(solver, since = None):\n",
    "    return read_result('sol', solver, ('datetime64[us]', int, int, int, int, int, float, float), 7, since)\n",
    "def read_att_result(name = 'profiling/att-percentages.csv'):\n",
    "    def cdir(text):\n",
    "        prefix = text[:-4]\n",
    "        number = int(text[-3:])\n",
    "        if prefix == 'update':\n",
    "            return number\n",
    "        elif prefix == 'sw':\n",
    "            return 31+number\n",
    "        elif prefix == 'res':\n",
    "            return 35+number\n",
    "        elif prefix == '':\n",
    "            pass\n",
    "        else:\n",
    "            print 'Unknown prefix \"{0}\"'.format(prefix)\n",
    "    dat = np.genfromtxt(name, delimiter=',', names=True,\n",
    "                        #dtype=(int, float, float, float, float, float, float, float),\n",
    "                        converters={'dir': cdir})\n",
    "    dat.sort(axis=0)\n",
    "    print 'Loaded {0} attribute metrics'.format(len(dat))\n",
    "    return dat"
   ]
  },
  {
   "cell_type": "code",
   "execution_count": 10,
   "metadata": {
    "collapsed": false
   },
   "outputs": [],
   "source": [
    "def safe(a, i, start = 0):\n",
    "    try:\n",
    "        return a[start:,i]\n",
    "    except IndexError:\n",
    "        return np.zeros(a[:,0].size)"
   ]
  },
  {
   "cell_type": "markdown",
   "metadata": {},
   "source": [
    "## ILP-Re-Generation and Solving Time\n",
    "\n",
    "- ILP-Re-Generation describes the time it takes for the Scheme implementations to evaluate the attribute computing the ILP\n",
    "    - it does not include the time to read from and write to disk\n",
    "    - \"Java\" denotes the Java- and EMF-based generation\n",
    "- ILP Solving describes the time it takes the solvers (GLPK and Gurobi in this case) to solve the generated ILP\n",
    "    - \"GLPK (Java)\" denotes the time to solve the ILP generated by the Java-based generation with GLPK. Its format was modifiert slightly to be accepted by GLPK, as it was originally generated for lp_solve\n",
    "    - \"GLPK (Scheme)\" denotes the time to solve the ILP generated by any scheme implementation with GLPK\n",
    "- the plots show different system configurations\n",
    "    - a system configuration is given by \"r x ( c \\* i \\* m )\", which describes a system with *r* resources and *c* software components with *i* implementations having *m* modes each.\n",
    "- for one such configuration the same experiment is run, i.e. the system is modified 7 times leading to the 7 steps, whereas only changes on hardware resources are made\n",
    "    - for the cases involving Java (both, generation and solving), the same time is used for every step, as the generation always starts from skretch. Further, the changes (e.g. change the value of a single hardware resource while generation) can not be reflected by the Java System Generator\n",
    "- on the x-axis, the steps of this manipulation are shown\n",
    "    - the initial generation of the ILP (step zero) is only shown below in numbers, as it would skew the diagrams"
   ]
  },
  {
   "cell_type": "markdown",
   "metadata": {},
   "source": [
    "Header = ['timestamp', 'dir', 'step', 'rows', 'cols', 'non-zero', 'ilp-sol', 'ti-ilp-sol']"
   ]
  },
  {
   "cell_type": "code",
   "execution_count": 83,
   "metadata": {
    "collapsed": false,
    "scrolled": true
   },
   "outputs": [
    {
     "name": "stdout",
     "output_type": "stream",
     "text": [
      "Loaded 2124 records for plt-r6rs (8x32 unique) = 8 run(s)\n",
      "Loaded 264 records for larceny (8x31 unique) = 1 run(s)\n",
      "Loaded 88 records for java (1x31 unique) = 2 run(s)\n",
      "Loaded 39 attribute metrics\n"
     ]
    }
   ],
   "source": [
    "racket_dats  = read_gen_results('plt-r6rs', since = datetime(2015,8,17,0,0,0))\n",
    "larceny_dats = read_gen_results('larceny', since = datetime(2015,6,12,0,0,0))\n",
    "java_dats    = read_gen_results('java')"
   ]
  },
  {
   "cell_type": "code",
   "execution_count": 12,
   "metadata": {
    "collapsed": false,
    "scrolled": true
   },
   "outputs": [
    {
     "name": "stdout",
     "output_type": "stream",
     "text": [
      "Loaded 23 records for java (1x23 unique) = 1 run(s)\n",
      "Loaded 1656 records for glpk (8x23 unique) = 9 run(s)\n",
      "Loaded 216 records for gurobi (8x27 unique) = 1 run(s)\n"
     ]
    }
   ],
   "source": [
    "java_glpk_dats = read_sol_results('java', since = datetime(2015,6,22,0,0,0))\n",
    "glpk_dats      = read_sol_results('glpk')\n",
    "gurobi_dats    = read_sol_results('gurobi')"
   ]
  },
  {
   "cell_type": "code",
   "execution_count": null,
   "metadata": {
    "collapsed": false,
    "scrolled": false
   },
   "outputs": [],
   "source": [
    "def draw_gen(params):\n",
    "    # needed number of axes equals ax_nr+1 now\n",
    "    name = 'gen_{}'.format(changeName)\n",
    "    f, ax_arr = plt.subplots(nrows = ax_nr+1, ncols = 3, sharex=True, sharey=True)\n",
    "    f.set_size_inches(25.5,3.5*(ax_nr+1))\n",
    "    one_plot = ax_arr.shape[1] == 1\n",
    "\n",
    "    f.patch.set_facecolor('none')\n",
    "    f.patch.set_alpha(0.0)\n",
    "\n",
    "    lines, labels = [], []\n",
    "    for p in params:\n",
    "        ax_tup = ax_arr if one_plot else ax_arr[p[0]]\n",
    "        ax_j = ax_tup[0]\n",
    "        ax_r = ax_tup[1]\n",
    "        ax_l = ax_tup[2]\n",
    "    #    ax_j.set_ylim([0,50])\n",
    "    #    ax_r.set_ylim([0,10])\n",
    "    #    ax_l.set_ylim([0,10])\n",
    "    #    x_g = np.array(xrange(1,len(p[1])+1)) # start at one, since first gen-time is cut\n",
    "        x_g = np.array(xrange(START_STEP,len(p[1])+START_STEP)) # start at zero\n",
    "        line_java    = ax_j.plot(x_g, p[8][0]*np.ones(len(p[1])), ls = p[5], c = p[6], label = p[7])\n",
    "        line_racket  = ax_r.plot(x_g, p[1], ls = p[5], c = p[6], label = p[7])\n",
    "        line_larceny = ax_l.plot(x_g, p[2], ls = p[5], c = p[6], label = p[7])\n",
    "        ax_l.legend(loc='upper left', bbox_to_anchor=(1, 1.02))\n",
    "        lines.append(line_racket[0])\n",
    "        labels.append(p[7])\n",
    "\n",
    "    for ax in ax_arr if one_plot else ax_arr.flatten():\n",
    "        ax.set_ylabel('seconds')\n",
    "        ax.patch.set_alpha(1)\n",
    "        ax.patch.set_facecolor('white')\n",
    "\n",
    "    first_ax = ax_arr if one_plot else ax_arr[0]\n",
    "    plt.suptitle('ILP Generation Time', fontsize = 16)\n",
    "    first_ax[0].set_title('Java')\n",
    "    first_ax[1].set_title('Racket')\n",
    "    first_ax[2].set_title('Larceny')\n",
    "\n",
    "    # Fine-tune figure; make subplots close to each other and hide x ticks for\n",
    "    # all but bottom plots.\n",
    "    f.subplots_adjust(hspace=0.2)\n",
    "    plt.setp([a.get_xticklabels() for a in f.axes[:-3]], visible=False)\n",
    "    plt.setp([a.get_yticklabels() for a in f.axes], visible=True)\n",
    "    plt.savefig('doc/{}.pdf'.format(name), facecolor=f.get_facecolor(), edgecolor='none')\n",
    "    plt.savefig('{}.png'.format(name), facecolor=f.get_facecolor(), edgecolor='none')\n",
    "    plt.close()"
   ]
  },
  {
   "cell_type": "code",
   "execution_count": null,
   "metadata": {
    "collapsed": false
   },
   "outputs": [],
   "source": [
    "def draw_sol(changeName, params):\n",
    "    name = 'sol_{}'.format(changeName)\n",
    "    f, ax_arr = plt.subplots(nrows = ax_nr+1, ncols = 3, sharex=True, sharey=True)\n",
    "    f.set_size_inches(25.5,3.5*(ax_nr+1))\n",
    "    one_plot = ax_arr.shape[1] == 1\n",
    "\n",
    "    f.patch.set_facecolor('none')\n",
    "    f.patch.set_alpha(0.0)\n",
    "\n",
    "    lines, labels = [], []\n",
    "    for p in params:\n",
    "        ax_tup = ax_arr if one_plot else ax_arr[p[0]]\n",
    "        ax_javaglpk = ax_tup[0]\n",
    "        ax_glpk     = ax_tup[1]\n",
    "        ax_gurobi   = ax_tup[2]\n",
    "        x = np.array(xrange(0,len(p[3]))) # start at zero\n",
    "        line_javaglpk = ax_javaglpk.plot(x, p[9][0]*np.ones(len(p[3])), ls = p[5], c = p[6], label = p[7])\n",
    "        line_glpk     = ax_glpk.plot(x, p[3], ls = p[5], c = p[6], label = p[7])\n",
    "        line_gurobi   = ax_gurobi.plot(x, p[4], ls = p[5], c = p[6], label = p[7])\n",
    "        ax_gurobi.legend(loc='upper left', bbox_to_anchor=(1, 1.02))\n",
    "        lines.append(line_glpk[0])\n",
    "        labels.append(p[7])\n",
    "\n",
    "    for ax in ax_arr if one_plot else ax_arr.flatten():\n",
    "        ax.set_ylabel('seconds')\n",
    "        ax.patch.set_alpha(1)\n",
    "        ax.patch.set_facecolor('white')\n",
    "\n",
    "    first_ax = ax_arr if one_plot else ax_arr[0]\n",
    "    plt.suptitle('ILP Solving Time', fontsize = 16)\n",
    "    first_ax[0].set_title('GLPK (Java)')\n",
    "    first_ax[1].set_title('GLPK (Scheme)')\n",
    "    first_ax[2].set_title('Gurobi (Scheme)')\n",
    "\n",
    "    # Fine-tune figure; make subplots close to each other and hide x ticks for\n",
    "    # all but bottom plots.\n",
    "    f.subplots_adjust(hspace=0.2)\n",
    "    plt.setp([a.get_xticklabels() for a in f.axes[:-3]], visible=False)\n",
    "    plt.setp([a.get_yticklabels() for a in f.axes], visible=True)\n",
    "    plt.savefig('doc/{}.pdf'.format(name))\n",
    "    plt.savefig('{}.png'.format(name))\n",
    "    plt.close()"
   ]
  },
  {
   "cell_type": "code",
   "execution_count": null,
   "metadata": {
    "collapsed": false,
    "scrolled": true
   },
   "outputs": [],
   "source": [
    "def draw_comp_sol(changeName, params):\n",
    "    name = 'comp_sol_{}'.format(changeName)\n",
    "    indices = [3, 12, 14, 19]\n",
    "    for i in indices:\n",
    "        p = params[i]\n",
    "        line_javaglpk = plt.plot(x, p[9][0]*np.ones(len(p[3])), ls = linestyles[0], c = p[6], label = p[7])\n",
    "        line_glpk     = plt.plot(x, p[3], ls = linestyles[1], c = p[6])\n",
    "        line_gurobi   = plt.plot(x, p[4], ls = linestyles[3], c = p[6])\n",
    "    plt.legend(loc = 'right')\n",
    "    plt.ylabel('seconds')\n",
    "    plt.suptitle('ILP Solving Time - Comparison', fontsize = 16)\n",
    "    plt.savefig('doc/{}.pdf'.format(name))\n",
    "    plt.savefig('{}.png'.format(name))\n",
    "    plt.close()"
   ]
  },
  {
   "cell_type": "code",
   "execution_count": 13,
   "metadata": {
    "collapsed": false,
    "scrolled": true
   },
   "outputs": [],
   "source": [
    "for change_index in xrange(len(racket_dats) + 1):\n",
    "    START_STEP = 0\n",
    "    MAX_PLOTS_IN_ONE, current_plot, ax_nr, last_res = 7, 0, 0, -1\n",
    "    params = []\n",
    "    for i in xrange(len(specs)):\n",
    "        current_res = specs[i][2]\n",
    "        current_plot += 1\n",
    "        if current_plot > MAX_PLOTS_IN_ONE and last_res != current_res:\n",
    "            ax_nr += 1\n",
    "            current_plot = 0\n",
    "        params.append([ax_nr, safe(racket_dat[change_index],i,START_STEP), safe(larceny_dat[change_index],i,START_STEP),\n",
    "                       safe(glpk_dat[change_index],i), safe(gurobi_dat[change_index],i),\n",
    "                       line_def[i], color_def[i], '{2:d} x ({4}*{5}*{6})'.format(*specs[i]),\n",
    "                       safe(java_dat[change_index],i), safe(java_glpk_dat[change_index],i)])\n",
    "        last_res = current_res\n",
    "    draw_gen(params)\n",
    "    draw_sol(params)\n",
    "    draw_comp_sol(params)"
   ]
  },
  {
   "cell_type": "markdown",
   "metadata": {},
   "source": [
    "## Times for initial generation of the ILP"
   ]
  },
  {
   "cell_type": "code",
   "execution_count": 17,
   "metadata": {
    "collapsed": false,
    "scrolled": true
   },
   "outputs": [
    {
     "data": {
      "text/plain": [
       "(array([  0.82 ,   0.239,   2.284,  19.2  ,   0.21 ,   0.319,   3.414,\n",
       "         27.39 ,   1.433,   2.482,   3.342,   6.396,  10.884,  12.314,\n",
       "         14.289,  15.988,  21.376,  26.704,  32.28 ,  24.226,  29.95 ,\n",
       "         36.352,  43.842,   3.219,   7.972,  12.263,  17.145,   0.352,\n",
       "          0.763,   2.226,   9.606]),\n",
       " array([  0.17  ,   0.187 ,   1.766 ,  11.3   ,   0.3   ,   0.403 ,\n",
       "          3.304 ,  22.73  ,   1.439 ,   2.375 ,   3.521 ,   6.308 ,\n",
       "         10.359 ,  12.319 ,  15.182 ,  18.13  ,  22.5205,  27.992 ,\n",
       "         32.143 ,  25.217 ,  30.606 ,  38.144 ,  45.88  ,   4.294 ,\n",
       "          9.545 ,  16.402 ,  24.272 ,   0.362 ,   0.711 ,   1.518 ,   3.948 ]))"
      ]
     },
     "execution_count": 17,
     "metadata": {},
     "output_type": "execute_result"
    }
   ],
   "source": [
    "(racket_dat[0], larceny_dat[0])"
   ]
  },
  {
   "cell_type": "markdown",
   "metadata": {},
   "source": [
    "## Attribute metrics\n",
    "\n",
    "- X = {normal, flushed, noncached}\n",
    "- (X1,X2) = {(normal, flushed), (normal, noncached), (flushed, noncached)}"
   ]
  },
  {
   "cell_type": "code",
   "execution_count": 16,
   "metadata": {
    "collapsed": false,
    "scrolled": true
   },
   "outputs": [
    {
     "name": "stdout",
     "output_type": "stream",
     "text": [
      "Loaded 39 attribute metrics\n"
     ]
    },
    {
     "data": {
      "text/plain": [
       "dtype([('dir', '<f8'), ('normalBaseline', '<f8'), ('flushedBaseline', '<f8'), ('noncachedBaseline', '<f8'), ('ratioNormalToFlushed', '<f8'), ('ratioNormalToNoncached', '<f8'), ('ratioFlushedToNoncached', '<f8'), ('speedupNormalToFlushed', '<f8'), ('speedupNormalToNoncached', '<f8'), ('speedupFlushedToNoncached', '<f8')])"
      ]
     },
     "execution_count": 16,
     "metadata": {},
     "output_type": "execute_result"
    }
   ],
   "source": [
    "att_dat = read_att_result()\n",
    "att_dat.dtype"
   ]
  },
  {
   "cell_type": "markdown",
   "metadata": {},
   "source": [
    "1) {X}basline: `total.X.computed / total.X.called`\n",
    "- the baseline of the method X"
   ]
  },
  {
   "cell_type": "code",
   "execution_count": 12,
   "metadata": {
    "collapsed": false,
    "scrolled": false
   },
   "outputs": [],
   "source": [
    "width = 0.5\n",
    "x = att_dat['dir']\n",
    "for n, (l, c) in enumerate((('noncached', 'grey'), ('flushed', 'g'), ('normal', 'b'))):\n",
    "    y = att_dat[l + 'Baseline']\n",
    "    #plt.plot(x, y, label = l, color = c)\n",
    "    plt.bar(x*4*width + n*width, y, width, label = l, color = c)\n",
    "\n",
    "plt.legend(loc = 'best')\n",
    "plt.ylabel('% computed')\n",
    "plt.suptitle('Attribute Baselines', fontsize = 16)\n",
    "plt.savefig('doc/att_bl.pdf')\n",
    "!pdfcrop doc/att_bl.pdf doc/att_bl_cropped.pdf > /dev/null\n",
    "plt.savefig('att_bl.png')\n",
    "plt.close()"
   ]
  },
  {
   "cell_type": "markdown",
   "metadata": {},
   "source": [
    "2) ratio{X1}To{X2}: `total.{X1}.computed / total.{X2}.called`\n",
    "- the efficiency of the incremental approach in comparison to the method X2,\n",
    "  i.e. the ratio between actual work done in X1 compared to possible work done with method X2"
   ]
  },
  {
   "cell_type": "code",
   "execution_count": 18,
   "metadata": {
    "collapsed": false
   },
   "outputs": [],
   "source": [
    "x = att_dat['dir']\n",
    "for n, (name, c, ls) in enumerate((('FlushedToNoncached', 'orange', '--'),\n",
    "                            ('NormalToFlushed', 'purple', '-'),\n",
    "                            ('NormalToNoncached', 'r', '-.'))):\n",
    "    y = att_dat['ratio' + name]\n",
    "    plt.plot(x, y, label = name.replace('To', r'$\\rightarrow$'), c = c, ls = ls)\n",
    "    #plt.bar(x*3*width + n*width, y, width, label = l, color = c)\n",
    "\n",
    "plt.legend(loc = 'best')\n",
    "plt.ylabel('%')\n",
    "plt.suptitle('Attribute Ratios', fontsize = 16)\n",
    "plt.savefig('doc/att_r.pdf')\n",
    "!pdfcrop doc/att_r.pdf doc/att_r_cropped.pdf > /dev/null\n",
    "plt.savefig('att_r.png')\n",
    "plt.close()"
   ]
  },
  {
   "cell_type": "markdown",
   "metadata": {},
   "source": [
    "3) speedup{X1}To{X2}: `(total.{X2}.computed / total.{X2}.called) - (total.{X1}.computed / total.{X2}.called)`\n",
    "- = `baseline({X2}) - ratio({X1}, {X2})`\n",
    "- the \"speed-up\" of the incremental approach (normal or flushed) in comparison to the method X2"
   ]
  },
  {
   "cell_type": "code",
   "execution_count": 14,
   "metadata": {
    "collapsed": false,
    "scrolled": true
   },
   "outputs": [],
   "source": [
    "x = att_dat['dir']\n",
    "for n, (l, c) in enumerate((('NormalToNoncached', 'r'),\n",
    "                            ('FlushedToNoncached', 'orange'),\n",
    "                            ('NormalToFlushed', 'yellow'))):\n",
    "    y = att_dat['speedup' + l]\n",
    "    plt.plot(x, y, label = l.replace('To', r'$\\rightarrow$'), color = c)\n",
    "    #plt.bar(x*3*width + n*width, y, width, label = l, color = c)\n",
    "\n",
    "plt.legend(loc = 'best')\n",
    "plt.ylabel('%')\n",
    "plt.suptitle('Attribute Speed-Ups', fontsize = 16)\n",
    "plt.savefig('doc/att_sp.pdf')\n",
    "!pdfcrop doc/att_sp.pdf doc/att_sp_cropped.pdf > /dev/null\n",
    "plt.savefig('att_sp.png')\n",
    "plt.close()"
   ]
  },
  {
   "cell_type": "markdown",
   "metadata": {},
   "source": [
    "## Boxplots for attribute measures"
   ]
  },
  {
   "cell_type": "code",
   "execution_count": 41,
   "metadata": {
    "collapsed": false
   },
   "outputs": [
    {
     "name": "stdout",
     "output_type": "stream",
     "text": [
      "Loaded 31 attribute metrics\n",
      "Loaded 4 attribute metrics\n",
      "Loaded 4 attribute metrics\n"
     ]
    }
   ],
   "source": [
    "with open('profiling/kinds.json') as fd:\n",
    "    d = json.load(fd)\n",
    "att_totals = {}\n",
    "for change in d['changes']:\n",
    "    att_totals[change] = read_att_result(name = 'profiling/splitted/att-percentages_{}.csv'.format(change))"
   ]
  },
  {
   "cell_type": "code",
   "execution_count": 79,
   "metadata": {
    "collapsed": false
   },
   "outputs": [],
   "source": [
    "PRINT_NONCACHED = True\n",
    "fig, axes = plt.subplots(ncols=len(d['changes']))\n",
    "l = ['normal', 'flushed']\n",
    "if PRINT_NONCACHED:\n",
    "    l.append('noncached')\n",
    "for i, change in enumerate(d['changes']):\n",
    "    att_dat = att_totals[change]\n",
    "    axes[i].boxplot([att_dat[name + 'Baseline'] for name in l], labels = [name[0]+name[3] for name in l])\n",
    "    axes[i].set_title(change, fontsize=10)\n",
    "    if i > 0:\n",
    "        axes[i].set_yticklabels([])\n",
    "if PRINT_NONCACHED:\n",
    "    for ax in axes.flatten():\n",
    "        ax.set_ylim([0,1.05])\n",
    "plt.suptitle('Attribute Baselines', fontsize = 16)\n",
    "plt.savefig('doc/att_box_bl.pdf')\n",
    "!pdfcrop doc/att_box_bl.pdf doc/att_box_bl_cropped.pdf > /dev/null\n",
    "plt.savefig('att_box_bl.png')\n",
    "plt.close()"
   ]
  }
 ],
 "metadata": {
  "kernelspec": {
   "display_name": "Python 2",
   "language": "python",
   "name": "python2"
  },
  "language_info": {
   "codemirror_mode": {
    "name": "ipython",
    "version": 2
   },
   "file_extension": ".py",
   "mimetype": "text/x-python",
   "name": "python",
   "nbconvert_exporter": "python",
   "pygments_lexer": "ipython2",
   "version": "2.7.10"
  }
 },
 "nbformat": 4,
 "nbformat_minor": 0
}
