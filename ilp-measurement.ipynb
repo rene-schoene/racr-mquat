{
 "cells": [
  {
   "cell_type": "code",
   "execution_count": 1,
   "metadata": {
    "collapsed": false
   },
   "outputs": [],
   "source": [
    "import numpy as np\n",
    "import matplotlib.pyplot as plt\n",
    "import matplotlib.axes\n",
    "%matplotlib inline\n",
    "plt.ioff()"
   ]
  },
  {
   "cell_type": "code",
   "execution_count": 2,
   "metadata": {
    "collapsed": false
   },
   "outputs": [],
   "source": [
    "from glob import glob\n",
    "from datetime import datetime\n",
    "from itertools import *\n",
    "from operator import itemgetter\n",
    "import json"
   ]
  },
  {
   "cell_type": "code",
   "execution_count": 3,
   "metadata": {
    "collapsed": false
   },
   "outputs": [],
   "source": [
    "spec_files = glob('profiling/*/specs')\n",
    "spec_files.sort()\n",
    "specs = [np.genfromtxt(f, delimiter=' ', dtype=int)\n",
    "         for f in spec_files]"
   ]
  },
  {
   "cell_type": "code",
   "execution_count": 4,
   "metadata": {
    "collapsed": false
   },
   "outputs": [],
   "source": [
    "linestyles = [\"-\",\"--\",\"-.\",\":\"]\n",
    "colors = ('blue','black','red','orange','green','magenta','yellow', 'cyan', 'purple', 'firebrick')\n",
    "colorcycle = cycle(colors)\n",
    "lastpe = False\n",
    "line_def = []\n",
    "color_def = []\n",
    "for spec in specs:\n",
    "    pe, comp, impl, mode = (spec[2], spec[4], spec[5], spec[6])\n",
    "    if not lastpe or lastpe != pe:\n",
    "        color = next(colorcycle)\n",
    "        linecycle = cycle(linestyles)\n",
    "    line  = next(linecycle)\n",
    "    lastpe = pe\n",
    "    line_def.append(line)\n",
    "    color_def.append(color)"
   ]
  },
  {
   "cell_type": "code",
   "execution_count": 5,
   "metadata": {
    "collapsed": false
   },
   "outputs": [],
   "source": [
    "def set_keys(*indices):\n",
    "    \"\"\"Returns a function that returns a tuple of key values\"\"\"\n",
    "    def get_keys(seq, indices=indices):\n",
    "        keys = []\n",
    "        for i in indices:\n",
    "            keys.append(seq[i])\n",
    "        return tuple(keys)\n",
    "    return get_keys"
   ]
  },
  {
   "cell_type": "code",
   "execution_count": 163,
   "metadata": {
    "collapsed": false
   },
   "outputs": [],
   "source": [
    "def get_average_times(dat, dirCol, stepCol, timeCol):\n",
    "    if dat.size == 1:\n",
    "        return np.array([np.array([dat.item()[timeCol]])])\n",
    "    dat.sort(order=['dir', 'step'])\n",
    "    result = {}\n",
    "    for (c_dir, c_step), rows in groupby(dat, key=set_keys('dir','step')):\n",
    "        #print c_dir, c_step, rows\n",
    "        c_dir, c_step, total_time, counter = None, None, 0, 0\n",
    "        for row in rows:\n",
    "            if not c_dir:\n",
    "                c_dir = row[dirCol]\n",
    "            if not c_step:\n",
    "                c_step = row[stepCol]\n",
    "            total_time+=row[timeCol]\n",
    "            counter += 1\n",
    "        result.setdefault(c_dir, []).append([c_step, total_time*1.0/counter])\n",
    "    result2 = []\n",
    "    for c_dir, rows in result.iteritems():\n",
    "        inner = []\n",
    "        result2.append([row[1] for row in rows])\n",
    "#        for row in rows:\n",
    "#            inner.append(row[1])\n",
    "#        result2.append(inner)\n",
    "    return np.array([np.array(rows) for rows in result2])"
   ]
  },
  {
   "cell_type": "code",
   "execution_count": 100,
   "metadata": {
    "collapsed": false
   },
   "outputs": [
    {
     "name": "stdout",
     "output_type": "stream",
     "text": [
      "gen (8, 31)\n",
      "sol (8, 23)\n"
     ]
    }
   ],
   "source": [
    "print 'gen', larceny_dats['update']['normal'].shape\n",
    "print 'sol', glpk_dats['update'].shape"
   ]
  },
  {
   "cell_type": "code",
   "execution_count": 7,
   "metadata": {
    "collapsed": false
   },
   "outputs": [],
   "source": [
    "def is_axis(a):\n",
    "    return not type(a) is np.ndarray"
   ]
  },
  {
   "cell_type": "code",
   "execution_count": 33,
   "metadata": {
    "collapsed": false
   },
   "outputs": [
    {
     "name": "stdout",
     "output_type": "stream",
     "text": [
      "Kinds: {u'strategies': [u'normal', u'flush', u'noncached'], u'changes': [u'update', u'sw', u'res']}\n"
     ]
    }
   ],
   "source": [
    "with open('profiling/kinds.json') as fd:\n",
    "    kinds = json.load(fd)\n",
    "print 'Kinds: {}'.format(kinds)"
   ]
  },
  {
   "cell_type": "markdown",
   "metadata": {},
   "source": [
    "Header = ['timestamp', 'dir', 'step', 'ilp-gen']"
   ]
  },
  {
   "cell_type": "code",
   "execution_count": 165,
   "metadata": {
    "collapsed": false
   },
   "outputs": [],
   "source": [
    "no_split, split_change_only, split_both = 0, 1, 2\n",
    "dat, dat2, dat3 = None, None, None\n",
    "def read_single_result(f, name, dtype, data_column, since):\n",
    "    global dat, dat2, dat3\n",
    "    def convdate(text):\n",
    "        return datetime.strptime(text, '%Y-%m-%dT%H:%M:%S.%f')\n",
    "    def convdir(text):\n",
    "        return int(text[-3:])\n",
    "    def convstep(text):\n",
    "        return int(text[0:2])\n",
    "    def safe_div(a, b):\n",
    "        return a/b if b>0 else \"{}!\".format(a)\n",
    "    dat = np.genfromtxt(f, delimiter=',', names=True, dtype=dtype,\n",
    "                        converters={'timestamp':convdate, 'step':convstep, 'dir': convdir})\n",
    "    if since:\n",
    "        dat = dat[dat['timestamp'] > since ]\n",
    "    dat2 = get_average_times(dat, 1, 2, data_column).transpose()\n",
    "    len_dat = 1 if len(dat.shape) == 0 else len(dat)\n",
    "    if dat2.size == 0:\n",
    "        print 'Did not load any record for {}'.format(name)\n",
    "    else:\n",
    "        print 'Loaded {0} records for {1} ({2[0]}x{2[1]} unique) ~= {3} run(s)'.format(\n",
    "            len_dat, name, dat2.shape, safe_div(len_dat,dat2.size))\n",
    "    dat3 = dat2\n",
    "    return dat2\n",
    "\n",
    "def read_results(prefix, name, dtype, data_column, since, splitted = no_split):\n",
    "    if splitted in (split_change_only, split_both):\n",
    "        result = {}\n",
    "        for change in kinds['changes']:\n",
    "            result.setdefault(change, {})\n",
    "            if splitted == split_both:\n",
    "                for strategy in kinds['strategies']:\n",
    "                    result[change].setdefault(strategy, {})\n",
    "                    new_name = '{0}_{1}_{2}'.format(change, strategy, name)\n",
    "                    f = 'profiling/splitted/{0}_{1}.csv'.format(prefix, new_name)\n",
    "                    result[change][strategy] = read_single_result(f, new_name, dtype, data_column, since)\n",
    "            else: # splitted == split_change_only\n",
    "                new_name = '{0}_{1}'.format(change, name)\n",
    "                f = 'profiling/splitted/{0}_{1}.csv'.format(prefix, new_name)\n",
    "                result[change] = read_single_result(f, new_name, dtype, data_column, since)\n",
    "        return result\n",
    "    else: # splitted = no_split\n",
    "        f = 'profiling/{0}-{1}-results.csv'.format(prefix, name)\n",
    "        return read_single_result(f, name, dtype, data_column, since)"
   ]
  },
  {
   "cell_type": "markdown",
   "metadata": {},
   "source": [
    "# Need testing, if still working with change kinds"
   ]
  },
  {
   "cell_type": "code",
   "execution_count": 59,
   "metadata": {
    "collapsed": false
   },
   "outputs": [],
   "source": [
    "def read_gen_results(impl, since = None):\n",
    "    return read_results('gen', impl, ('datetime64[us]', int, int, float), 3, since, splitted = split_both)\n",
    "def read_sol_results(solver, since = None):\n",
    "    return read_results('sol', solver, ('datetime64[us]', int, int, int, int, int, float, float), 7, since,\n",
    "                        splitted = split_change_only)\n",
    "def read_att_result(name = 'profiling/att-percentages.csv'):\n",
    "    def cdir(text):\n",
    "        prefix = text[:-4]\n",
    "        number = int(text[-3:])\n",
    "        if prefix == 'update':\n",
    "            return number\n",
    "        elif prefix == 'sw':\n",
    "            return 31+number\n",
    "        elif prefix == 'res':\n",
    "            return 35+number\n",
    "        elif prefix == '':\n",
    "            pass\n",
    "        else:\n",
    "            print 'Unknown prefix \"{0}\"'.format(prefix)\n",
    "    dat = np.genfromtxt(name, delimiter=',', names=True,\n",
    "                        #dtype=(int, float, float, float, float, float, float, float),\n",
    "                        converters={'dir': cdir})\n",
    "    dat.sort(axis=0)\n",
    "    print 'Loaded {0} attribute metrics'.format(len(dat))\n",
    "    return dat"
   ]
  },
  {
   "cell_type": "code",
   "execution_count": 10,
   "metadata": {
    "collapsed": false
   },
   "outputs": [],
   "source": [
    "def safe(a, i, start = 0):\n",
    "    try:\n",
    "        return a[start:,i]\n",
    "    except IndexError:\n",
    "        return np.zeros(a[:,0].size)"
   ]
  },
  {
   "cell_type": "markdown",
   "metadata": {},
   "source": [
    "## ILP-Re-Generation and Solving Time\n",
    "\n",
    "- ILP-Re-Generation describes the time it takes for the Scheme implementations to evaluate the attribute computing the ILP\n",
    "    - it does not include the time to read from and write to disk\n",
    "    - \"Java\" denotes the Java- and EMF-based generation\n",
    "- ILP Solving describes the time it takes the solvers (GLPK and Gurobi in this case) to solve the generated ILP\n",
    "    - \"GLPK (Java)\" denotes the time to solve the ILP generated by the Java-based generation with GLPK. Its format was modifiert slightly to be accepted by GLPK, as it was originally generated for lp_solve\n",
    "    - \"GLPK (Scheme)\" denotes the time to solve the ILP generated by any scheme implementation with GLPK\n",
    "- the plots show different system configurations\n",
    "    - a system configuration is given by \"r x ( c \\* i \\* m )\", which describes a system with *r* resources and *c* software components with *i* implementations having *m* modes each.\n",
    "- for one such configuration the same experiment is run, i.e. the system is modified 7 times leading to the 7 steps, whereas only changes on hardware resources are made\n",
    "    - for the cases involving Java (both, generation and solving), the same time is used for every step, as the generation always starts from skretch. Further, the changes (e.g. change the value of a single hardware resource while generation) can not be reflected by the Java System Generator\n",
    "- on the x-axis, the steps of this manipulation are shown\n",
    "    - the initial generation of the ILP (step zero) is only shown below in numbers, as it would skew the diagrams"
   ]
  },
  {
   "cell_type": "markdown",
   "metadata": {},
   "source": [
    "Header = ['timestamp', 'dir', 'step', 'rows', 'cols', 'non-zero', 'ilp-sol', 'ti-ilp-sol']"
   ]
  },
  {
   "cell_type": "code",
   "execution_count": 166,
   "metadata": {
    "collapsed": false,
    "scrolled": false
   },
   "outputs": [
    {
     "name": "stdout",
     "output_type": "stream",
     "text": [
      "Loaded 328 records for update_normal_plt-r6rs (8x31 unique) ~= 1 run(s)\n",
      "Loaded 256 records for update_flush_plt-r6rs (8x31 unique) ~= 1 run(s)\n",
      "Loaded 496 records for update_noncached_plt-r6rs (8x31 unique) ~= 2 run(s)\n",
      "Loaded 63 records for sw_normal_plt-r6rs (7x4 unique) ~= 2 run(s)\n",
      "Loaded 28 records for sw_flush_plt-r6rs (7x4 unique) ~= 1 run(s)\n",
      "Loaded 140 records for sw_noncached_plt-r6rs (7x13 unique) ~= 1 run(s)\n",
      "Loaded 63 records for res_normal_plt-r6rs (7x4 unique) ~= 2 run(s)\n",
      "Loaded 28 records for res_flush_plt-r6rs (7x4 unique) ~= 1 run(s)\n",
      "Loaded 147 records for res_noncached_plt-r6rs (7x14 unique) ~= 1 run(s)\n",
      "Loaded 264 records for update_normal_larceny (8x31 unique) ~= 1 run(s)\n",
      "Did not load any record for update_flush_larceny\n",
      "Did not load any record for update_noncached_larceny\n",
      "Did not load any record for sw_normal_larceny\n",
      "Did not load any record for sw_flush_larceny\n",
      "Did not load any record for sw_noncached_larceny\n",
      "Did not load any record for res_normal_larceny\n",
      "Did not load any record for res_flush_larceny\n",
      "Did not load any record for res_noncached_larceny\n",
      "Loaded 88 records for update_normal_java (1x31 unique) ~= 2 run(s)\n",
      "Loaded 1 records for update_flush_java (1x1 unique) ~= 1 run(s)\n",
      "Loaded 1 records for update_noncached_java (1x1 unique) ~= 1 run(s)\n",
      "Loaded 1 records for sw_normal_java (1x1 unique) ~= 1 run(s)\n",
      "Loaded 1 records for sw_flush_java (1x1 unique) ~= 1 run(s)\n",
      "Loaded 1 records for sw_noncached_java (1x1 unique) ~= 1 run(s)\n",
      "Loaded 1 records for res_normal_java (1x1 unique) ~= 1 run(s)\n",
      "Loaded 1 records for res_flush_java (1x1 unique) ~= 1 run(s)\n",
      "Loaded 1 records for res_noncached_java (1x1 unique) ~= 1 run(s)\n"
     ]
    }
   ],
   "source": [
    "racket_dats  = read_gen_results('plt-r6rs', since = datetime(2015,8,17,0,0,0))\n",
    "larceny_dats = read_gen_results('larceny', since = datetime(2015,6,12,0,0,0))\n",
    "java_dats    = read_gen_results('java')"
   ]
  },
  {
   "cell_type": "code",
   "execution_count": 167,
   "metadata": {
    "collapsed": false,
    "scrolled": true
   },
   "outputs": [
    {
     "name": "stdout",
     "output_type": "stream",
     "text": [
      "Loaded 23 records for update_java (1x23 unique) ~= 1 run(s)\n",
      "Did not load any record for sw_java\n",
      "Did not load any record for res_java\n",
      "Loaded 1656 records for update_glpk (8x23 unique) ~= 9 run(s)\n",
      "Loaded 1 records for sw_glpk (1x1 unique) ~= 1 run(s)\n",
      "Loaded 1 records for res_glpk (1x1 unique) ~= 1 run(s)\n",
      "Loaded 216 records for update_gurobi (8x27 unique) ~= 1 run(s)\n",
      "Loaded 1 records for sw_gurobi (1x1 unique) ~= 1 run(s)\n",
      "Loaded 1 records for res_gurobi (1x1 unique) ~= 1 run(s)\n"
     ]
    }
   ],
   "source": [
    "java_glpk_dats = read_sol_results('java', since = datetime(2015,6,22,0,0,0))\n",
    "glpk_dats      = read_sol_results('glpk')\n",
    "gurobi_dats    = read_sol_results('gurobi')"
   ]
  },
  {
   "cell_type": "code",
   "execution_count": 63,
   "metadata": {
    "collapsed": true
   },
   "outputs": [],
   "source": [
    "p_ax_nr, p_line_def, p_col_def, p_label   = 0, 1, 2, 3\n",
    "p_gen_racket, p_gen_larceny, p_gen_java   = 4, 5, 6\n",
    "p_sol_glpk, p_sol_gurobi, p_sol_java_glpk = 4, 5, 6"
   ]
  },
  {
   "cell_type": "code",
   "execution_count": 70,
   "metadata": {
    "collapsed": false,
    "scrolled": false
   },
   "outputs": [],
   "source": [
    "def draw_gen(changeName, strategy, params):\n",
    "    # needed number of axes equals ax_nr+1 now\n",
    "    name = 'gen_{0}_{1}'.format(changeName, strategy)\n",
    "    f, ax_arr = plt.subplots(nrows = ax_nr+1, ncols = 3, sharex=True, sharey=True)\n",
    "    f.set_size_inches(25.5,3.5*(ax_nr+1))\n",
    "    one_plot = ax_arr.shape[1] == 1\n",
    "\n",
    "    f.patch.set_facecolor('none')\n",
    "    f.patch.set_alpha(0.0)\n",
    "\n",
    "    lines, labels = [], []\n",
    "    for p in params:\n",
    "        ax_tup = ax_arr if one_plot else ax_arr[p[p_ax_nr]]\n",
    "        ax_j = ax_tup[0]\n",
    "        ax_r = ax_tup[1]\n",
    "        ax_l = ax_tup[2]\n",
    "    #    ax_j.set_ylim([0,50])\n",
    "    #    ax_r.set_ylim([0,10])\n",
    "    #    ax_l.set_ylim([0,10])\n",
    "    #    x_g = np.array(xrange(1,len(p[1])+1)) # start at one, since first gen-time is cut\n",
    "        x_g = np.array(xrange(START_STEP,len(p[p_gen_racket])+START_STEP)) # start at zero\n",
    "        line_java    = ax_j.plot(x_g, p[p_gen_java][0]*np.ones(len(p[p_gen_racket])), ls = p[p_line_def],\n",
    "                                 c = p[p_col_def], label = p[p_label])\n",
    "        line_racket  = ax_r.plot(x_g, p[p_gen_racket], ls = p[p_line_def], c = p[p_col_def], label = p[p_label])\n",
    "        line_larceny = ax_l.plot(x_g, p[p_gen_larceny], ls = p[p_line_def], c = p[p_col_def], label = p[p_label])\n",
    "        ax_l.legend(loc='upper left', bbox_to_anchor=(1, 1.02))\n",
    "        lines.append(line_racket[0])\n",
    "        labels.append(p[p_label])\n",
    "\n",
    "    for ax in ax_arr if one_plot else ax_arr.flatten():\n",
    "        ax.set_ylabel('seconds')\n",
    "        ax.patch.set_alpha(1)\n",
    "        ax.patch.set_facecolor('white')\n",
    "\n",
    "    first_ax = ax_arr if one_plot else ax_arr[0]\n",
    "    plt.suptitle('ILP Generation Time', fontsize = 16)\n",
    "    first_ax[0].set_title('Java')\n",
    "    first_ax[1].set_title('Racket')\n",
    "    first_ax[2].set_title('Larceny')\n",
    "\n",
    "    # Fine-tune figure; make subplots close to each other and hide x ticks for\n",
    "    # all but bottom plots.\n",
    "    f.subplots_adjust(hspace=0.2)\n",
    "    plt.setp([a.get_xticklabels() for a in f.axes[:-3]], visible=False)\n",
    "    plt.setp([a.get_yticklabels() for a in f.axes], visible=True)\n",
    "    plt.savefig('doc/{}.pdf'.format(name), facecolor=f.get_facecolor(), edgecolor='none')\n",
    "    plt.savefig('{}.png'.format(name), facecolor=f.get_facecolor(), edgecolor='none')\n",
    "    plt.close()"
   ]
  },
  {
   "cell_type": "code",
   "execution_count": 71,
   "metadata": {
    "collapsed": false
   },
   "outputs": [],
   "source": [
    "def draw_sol(changeName, params):\n",
    "    name = 'sol_{}'.format(changeName)\n",
    "    f, ax_arr = plt.subplots(nrows = ax_nr+1, ncols = 3, sharex=True, sharey=True)\n",
    "    f.set_size_inches(25.5,3.5*(ax_nr+1))\n",
    "    one_plot = ax_arr.shape[1] == 1\n",
    "\n",
    "    f.patch.set_facecolor('none')\n",
    "    f.patch.set_alpha(0.0)\n",
    "\n",
    "    lines, labels = [], []\n",
    "    for p in params:\n",
    "        ax_tup = ax_arr if one_plot else ax_arr[p[p_ax_nr]]\n",
    "        ax_javaglpk = ax_tup[0]\n",
    "        ax_glpk     = ax_tup[1]\n",
    "        ax_gurobi   = ax_tup[2]\n",
    "        x = np.array(xrange(0,len(p[p_sol_glpk]))) # start at zero\n",
    "        line_javaglpk = ax_javaglpk.plot(x, p[p_sol_java_glpk][0]*np.ones(len(p[p_sol_glpk])), ls = p[p_line_def],\n",
    "                                         c = p[p_col_def], label = p[p_label])\n",
    "        line_glpk     = ax_glpk.plot(x, p[p_sol_glpk], ls = p[p_line_def], c = p[p_col_def], label = p[p_label])\n",
    "        line_gurobi   = ax_gurobi.plot(x, p[p_sol_gurobi], ls = p[p_line_def], c = p[p_col_def], label = p[p_label])\n",
    "        ax_gurobi.legend(loc='upper left', bbox_to_anchor=(1, 1.02))\n",
    "        lines.append(line_glpk[0])\n",
    "        labels.append(p[p_label])\n",
    "\n",
    "    for ax in ax_arr if one_plot else ax_arr.flatten():\n",
    "        ax.set_ylabel('seconds')\n",
    "        ax.patch.set_alpha(1)\n",
    "        ax.patch.set_facecolor('white')\n",
    "\n",
    "    first_ax = ax_arr if one_plot else ax_arr[0]\n",
    "    plt.suptitle('ILP Solving Time', fontsize = 16)\n",
    "    first_ax[0].set_title('GLPK (Java)')\n",
    "    first_ax[1].set_title('GLPK (Scheme)')\n",
    "    first_ax[2].set_title('Gurobi (Scheme)')\n",
    "\n",
    "    # Fine-tune figure; make subplots close to each other and hide x ticks for\n",
    "    # all but bottom plots.\n",
    "    f.subplots_adjust(hspace=0.2)\n",
    "    plt.setp([a.get_xticklabels() for a in f.axes[:-3]], visible=False)\n",
    "    plt.setp([a.get_yticklabels() for a in f.axes], visible=True)\n",
    "    plt.savefig('doc/{}.pdf'.format(name))\n",
    "    plt.savefig('{}.png'.format(name))\n",
    "    plt.close()"
   ]
  },
  {
   "cell_type": "code",
   "execution_count": 72,
   "metadata": {
    "collapsed": false,
    "scrolled": true
   },
   "outputs": [],
   "source": [
    "def draw_comp_sol(changeName, params):\n",
    "    name = 'comp_sol_{}'.format(changeName)\n",
    "    indices = [3, 12, 14, 19]\n",
    "    for i in indices:\n",
    "        p = params[i]\n",
    "        line_javaglpk = plt.plot(x, p[p_sol_java_glpk][0]*np.ones(len(p[p_sol_glpk])), ls = linestyles[0],\n",
    "                                 c = p[p_col_def], label = p[p_label])\n",
    "        line_glpk     = plt.plot(x, p[p_sol_glpk], ls = p[p_line_def], c = p[p_col_def])\n",
    "        line_gurobi   = plt.plot(x, p[p_sol_gurobi], ls = p[p_line_def], c = p[p_col_def])\n",
    "    plt.legend(loc = 'right')\n",
    "    plt.ylabel('seconds')\n",
    "    plt.suptitle('ILP Solving Time - Comparison', fontsize = 16)\n",
    "    plt.savefig('doc/{}.pdf'.format(name))\n",
    "    plt.savefig('{}.png'.format(name))\n",
    "    plt.close()"
   ]
  },
  {
   "cell_type": "code",
   "execution_count": 168,
   "metadata": {
    "collapsed": false,
    "scrolled": true
   },
   "outputs": [
    {
     "name": "stdout",
     "output_type": "stream",
     "text": [
      "Change = update\n",
      "Stategy = normal\n",
      "Stategy = flush\n"
     ]
    },
    {
     "ename": "IndexError",
     "evalue": "too many indices for array",
     "output_type": "error",
     "traceback": [
      "\u001b[1;31m---------------------------------------------------------------------------\u001b[0m",
      "\u001b[1;31mIndexError\u001b[0m                                Traceback (most recent call last)",
      "\u001b[1;32m<ipython-input-168-4ac34798cab4>\u001b[0m in \u001b[0;36m<module>\u001b[1;34m()\u001b[0m\n\u001b[0;32m     18\u001b[0m             gen_params.append([ax_nr, line_def[i], color_def[i], '{2:d} x ({4}*{5}*{6})'.format(*specs[i]),\n\u001b[0;32m     19\u001b[0m                                \u001b[0msafe\u001b[0m\u001b[1;33m(\u001b[0m\u001b[0mracket_dats\u001b[0m\u001b[1;33m[\u001b[0m\u001b[0mchange\u001b[0m\u001b[1;33m]\u001b[0m\u001b[1;33m[\u001b[0m\u001b[0mstrategy\u001b[0m\u001b[1;33m]\u001b[0m\u001b[1;33m,\u001b[0m\u001b[0mi\u001b[0m\u001b[1;33m,\u001b[0m\u001b[0mSTART_STEP\u001b[0m\u001b[1;33m)\u001b[0m\u001b[1;33m,\u001b[0m\u001b[1;33m\u001b[0m\u001b[0m\n\u001b[1;32m---> 20\u001b[1;33m                                \u001b[0msafe\u001b[0m\u001b[1;33m(\u001b[0m\u001b[0mlarceny_dats\u001b[0m\u001b[1;33m[\u001b[0m\u001b[0mchange\u001b[0m\u001b[1;33m]\u001b[0m\u001b[1;33m[\u001b[0m\u001b[0mstrategy\u001b[0m\u001b[1;33m]\u001b[0m\u001b[1;33m,\u001b[0m\u001b[0mi\u001b[0m\u001b[1;33m,\u001b[0m\u001b[0mSTART_STEP\u001b[0m\u001b[1;33m)\u001b[0m\u001b[1;33m,\u001b[0m\u001b[1;33m\u001b[0m\u001b[0m\n\u001b[0m\u001b[0;32m     21\u001b[0m                                safe(java_dats[change][strategy],i)])\n\u001b[0;32m     22\u001b[0m             \u001b[0mlast_res\u001b[0m \u001b[1;33m=\u001b[0m \u001b[0mcurrent_res\u001b[0m\u001b[1;33m\u001b[0m\u001b[0m\n",
      "\u001b[1;32m<ipython-input-10-27c199385393>\u001b[0m in \u001b[0;36msafe\u001b[1;34m(a, i, start)\u001b[0m\n\u001b[0;32m      3\u001b[0m         \u001b[1;32mreturn\u001b[0m \u001b[0ma\u001b[0m\u001b[1;33m[\u001b[0m\u001b[0mstart\u001b[0m\u001b[1;33m:\u001b[0m\u001b[1;33m,\u001b[0m\u001b[0mi\u001b[0m\u001b[1;33m]\u001b[0m\u001b[1;33m\u001b[0m\u001b[0m\n\u001b[0;32m      4\u001b[0m     \u001b[1;32mexcept\u001b[0m \u001b[0mIndexError\u001b[0m\u001b[1;33m:\u001b[0m\u001b[1;33m\u001b[0m\u001b[0m\n\u001b[1;32m----> 5\u001b[1;33m         \u001b[1;32mreturn\u001b[0m \u001b[0mnp\u001b[0m\u001b[1;33m.\u001b[0m\u001b[0mzeros\u001b[0m\u001b[1;33m(\u001b[0m\u001b[0ma\u001b[0m\u001b[1;33m[\u001b[0m\u001b[1;33m:\u001b[0m\u001b[1;33m,\u001b[0m\u001b[1;36m0\u001b[0m\u001b[1;33m]\u001b[0m\u001b[1;33m.\u001b[0m\u001b[0msize\u001b[0m\u001b[1;33m)\u001b[0m\u001b[1;33m\u001b[0m\u001b[0m\n\u001b[0m",
      "\u001b[1;31mIndexError\u001b[0m: too many indices for array"
     ]
    }
   ],
   "source": [
    "START_STEP, MAX_PLOTS_IN_ONE = 0, 7\n",
    "for change in kinds['changes']:\n",
    "    print 'Change = {}'.format(change)\n",
    "    for strategy in kinds['strategies']:\n",
    "        print 'Stategy = {}'.format(strategy)\n",
    "        current_plot, ax_nr, last_res = 0, 0, -1\n",
    "        gen_params = []\n",
    "        for i in xrange(len(specs)):\n",
    "            current_res = specs[i][2]\n",
    "            current_plot += 1\n",
    "            if current_plot > MAX_PLOTS_IN_ONE and last_res != current_res:\n",
    "                ax_nr += 1\n",
    "                current_plot = 0\n",
    "#            params.append([ax_nr, safe(racket_dats[change][strategy],i,START_STEP), safe(larceny_dats[change][strategy],i,START_STEP),\n",
    "#                           safe(glpk_dats[change][strategy],i), safe(gurobi_dats[change][strategy],i),\n",
    "#                           line_def[i], color_def[i], '{2:d} x ({4}*{5}*{6})'.format(*specs[i]),\n",
    "#                           safe(java_dats[change][strategy],i), safe(java_glpk_dats[change][strategy],i)])\n",
    "            gen_params.append([ax_nr, line_def[i], color_def[i], '{2:d} x ({4}*{5}*{6})'.format(*specs[i]),\n",
    "                               safe(racket_dats[change][strategy],i,START_STEP),\n",
    "                               safe(larceny_dats[change][strategy],i,START_STEP),\n",
    "                               safe(java_dats[change][strategy],i)])\n",
    "            last_res = current_res\n",
    "        try:\n",
    "            draw_gen(change, strategy, gen_params)\n",
    "        except:\n",
    "            print 'Error while drawing gen in {0}-{1}'.format(change, strategy)\n",
    "    sol_params = []\n",
    "    for i in xrange(len(specs)):\n",
    "        current_res = specs[i][2]\n",
    "        current_plot += 1\n",
    "        if current_plot > MAX_PLOTS_IN_ONE and last_res != current_res:\n",
    "            ax_nr += 1\n",
    "            current_plot = 0\n",
    "        sol_params.append([ax_nr, line_def[i], color_def[i], '{2:d} x ({4}*{5}*{6})'.format(*specs[i]),\n",
    "                           safe(glpk_dats[change][strategy],i),\n",
    "                           safe(gurobi_dats[change][strategy],i),\n",
    "                           safe(java_glpk_dats[change][strategy],i)])\n",
    "    try:\n",
    "        draw_sol(change, params)\n",
    "    except:\n",
    "        print 'Error while drawing sol in {0}-{1}'.format(change, strategy)\n",
    "    try:\n",
    "        draw_comp_sol(change, params)\n",
    "    except:\n",
    "        print 'Error while drawing comp-sol in {0}-{1}'.format(change, strategy)\n"
   ]
  },
  {
   "cell_type": "code",
   "execution_count": 82,
   "metadata": {
    "collapsed": false,
    "scrolled": true
   },
   "outputs": [
    {
     "data": {
      "text/plain": [
       "{u'res': {u'flush': array([], dtype=float64),\n",
       "  u'noncached': array([], dtype=float64),\n",
       "  u'normal': array([], dtype=float64)},\n",
       " u'sw': {u'flush': array([], dtype=float64),\n",
       "  u'noncached': array([], dtype=float64),\n",
       "  u'normal': array([], dtype=float64)},\n",
       " u'update': {u'flush': array([], dtype=float64),\n",
       "  u'noncached': array([], dtype=float64),\n",
       "  u'normal': array([[  0.17  ,   0.187 ,   1.766 ,  11.3   ,   0.3   ,   0.403 ,\n",
       "            3.304 ,  22.73  ,   1.439 ,   2.375 ,   3.521 ,   6.308 ,\n",
       "           10.359 ,  12.319 ,  15.182 ,  18.13  ,  22.5205,  27.992 ,\n",
       "           32.143 ,  25.217 ,  30.606 ,  38.144 ,  45.88  ,   4.294 ,\n",
       "            9.545 ,  16.402 ,  24.272 ,   0.362 ,   0.711 ,   1.518 ,   3.948 ],\n",
       "         [  0.5   ,   0.46  ,   0.223 ,   0.916 ,   0.9   ,   0.123 ,\n",
       "            0.446 ,   2.267 ,   0.257 ,   0.488 ,   0.852 ,   1.224 ,\n",
       "            1.964 ,   2.78  ,   2.6   ,   3.274 ,   4.2555,   5.503 ,\n",
       "            4.899 ,   4.107 ,   4.98  ,   6.655 ,   7.133 ,   0.958 ,\n",
       "            1.695 ,   2.673 ,   3.984 ,   0.68  ,   0.142 ,   0.239 ,   0.649 ],\n",
       "         [  0.5   ,   0.45  ,   0.228 ,   0.915 ,   0.1   ,   0.117 ,\n",
       "            0.441 ,   2.266 ,   0.261 ,   0.489 ,   0.879 ,   1.255 ,\n",
       "            1.953 ,   2.79  ,   2.602 ,   3.252 ,   3.577 ,   5.444 ,\n",
       "            4.878 ,   4.54  ,   4.959 ,   6.679 ,   7.165 ,   0.949 ,\n",
       "            1.507 ,   2.679 ,   3.977 ,   0.73  ,   0.141 ,   0.241 ,   0.65  ],\n",
       "         [  0.5   ,   0.43  ,   0.225 ,   0.902 ,   0.11  ,   0.115 ,\n",
       "            0.443 ,   2.256 ,   0.25  ,   0.488 ,   0.858 ,   1.209 ,\n",
       "            1.958 ,   2.93  ,   2.636 ,   3.272 ,   3.5695,   5.444 ,\n",
       "            4.8705,   4.77  ,   4.979 ,   6.732 ,   7.151 ,   0.937 ,\n",
       "            1.52  ,   2.692 ,   3.995 ,   0.68  ,   0.147 ,   0.231 ,   0.675 ],\n",
       "         [  0.4   ,   0.28  ,   0.35  ,   0.83  ,   0.6   ,   0.64  ,\n",
       "            0.8   ,   0.225 ,   0.129 ,   0.222 ,   0.263 ,   0.525 ,\n",
       "            0.714 ,   0.919 ,   1.202 ,   1.385 ,   1.607 ,   1.866 ,\n",
       "            1.475 ,   1.88  ,   2.163 ,   2.395 ,   2.83  ,   0.326 ,\n",
       "            0.862 ,   1.473 ,   2.274 ,   0.26  ,   0.62  ,   0.178 ,   0.253 ],\n",
       "         [  0.5   ,   0.39  ,   0.45  ,   0.102 ,   0.1   ,   0.87  ,\n",
       "            0.171 ,   0.27  ,   0.162 ,   0.272 ,   0.359 ,   0.636 ,\n",
       "            0.952 ,   1.311 ,   1.965 ,   2.199 ,   2.3975,   3.42  ,\n",
       "            2.397 ,   2.855 ,   2.935 ,   3.413 ,   4.4   ,   0.534 ,\n",
       "            1.105 ,   2.147 ,   2.773 ,   0.44  ,   0.8   ,   0.145 ,   0.381 ],\n",
       "         [  0.5   ,   0.39  ,   0.14  ,   0.153 ,   0.1   ,   0.12  ,\n",
       "            0.103 ,   0.257 ,   0.186 ,   0.253 ,   0.42  ,   0.852 ,\n",
       "            0.945 ,   1.319 ,   1.926 ,   1.779 ,   2.23  ,   2.445 ,\n",
       "            2.262 ,   2.565 ,   2.833 ,   3.318 ,   3.743 ,   0.456 ,\n",
       "            1.298 ,   1.967 ,   2.767 ,   0.46  ,   0.77  ,   0.162 ,   0.334 ],\n",
       "         [  0.4   ,   0.4   ,   0.51  ,   0.144 ,   0.9   ,   0.8   ,\n",
       "            0.135 ,   0.36  ,   0.162 ,   0.443 ,   0.343 ,   0.681 ,\n",
       "            0.933 ,   1.357 ,   1.623 ,   1.834 ,   2.4315,   2.626 ,\n",
       "            2.098 ,   2.467 ,   2.755 ,   4.685 ,   3.96  ,   0.542 ,\n",
       "            1.199 ,   2.159 ,   2.642 ,   0.38  ,   0.93  ,   0.151 ,   0.331 ]])}}"
      ]
     },
     "execution_count": 82,
     "metadata": {},
     "output_type": "execute_result"
    }
   ],
   "source": [
    "larceny_dats"
   ]
  },
  {
   "cell_type": "markdown",
   "metadata": {},
   "source": [
    "## Times for initial generation of the ILP"
   ]
  },
  {
   "cell_type": "code",
   "execution_count": 17,
   "metadata": {
    "collapsed": false,
    "scrolled": true
   },
   "outputs": [
    {
     "data": {
      "text/plain": [
       "(array([  0.82 ,   0.239,   2.284,  19.2  ,   0.21 ,   0.319,   3.414,\n",
       "         27.39 ,   1.433,   2.482,   3.342,   6.396,  10.884,  12.314,\n",
       "         14.289,  15.988,  21.376,  26.704,  32.28 ,  24.226,  29.95 ,\n",
       "         36.352,  43.842,   3.219,   7.972,  12.263,  17.145,   0.352,\n",
       "          0.763,   2.226,   9.606]),\n",
       " array([  0.17  ,   0.187 ,   1.766 ,  11.3   ,   0.3   ,   0.403 ,\n",
       "          3.304 ,  22.73  ,   1.439 ,   2.375 ,   3.521 ,   6.308 ,\n",
       "         10.359 ,  12.319 ,  15.182 ,  18.13  ,  22.5205,  27.992 ,\n",
       "         32.143 ,  25.217 ,  30.606 ,  38.144 ,  45.88  ,   4.294 ,\n",
       "          9.545 ,  16.402 ,  24.272 ,   0.362 ,   0.711 ,   1.518 ,   3.948 ]))"
      ]
     },
     "execution_count": 17,
     "metadata": {},
     "output_type": "execute_result"
    }
   ],
   "source": [
    "(racket_dat[0], larceny_dat[0])"
   ]
  },
  {
   "cell_type": "markdown",
   "metadata": {},
   "source": [
    "## Attribute metrics\n",
    "\n",
    "- X = {normal, flushed, noncached}\n",
    "- (X1,X2) = {(normal, flushed), (normal, noncached), (flushed, noncached)}"
   ]
  },
  {
   "cell_type": "code",
   "execution_count": 16,
   "metadata": {
    "collapsed": false,
    "scrolled": true
   },
   "outputs": [
    {
     "name": "stdout",
     "output_type": "stream",
     "text": [
      "Loaded 39 attribute metrics\n"
     ]
    },
    {
     "data": {
      "text/plain": [
       "dtype([('dir', '<f8'), ('normalBaseline', '<f8'), ('flushedBaseline', '<f8'), ('noncachedBaseline', '<f8'), ('ratioNormalToFlushed', '<f8'), ('ratioNormalToNoncached', '<f8'), ('ratioFlushedToNoncached', '<f8'), ('speedupNormalToFlushed', '<f8'), ('speedupNormalToNoncached', '<f8'), ('speedupFlushedToNoncached', '<f8')])"
      ]
     },
     "execution_count": 16,
     "metadata": {},
     "output_type": "execute_result"
    }
   ],
   "source": [
    "att_dat = read_att_result()\n",
    "att_dat.dtype"
   ]
  },
  {
   "cell_type": "markdown",
   "metadata": {},
   "source": [
    "1) {X}basline: `total.X.computed / total.X.called`\n",
    "- the baseline of the method X"
   ]
  },
  {
   "cell_type": "code",
   "execution_count": 12,
   "metadata": {
    "collapsed": false,
    "scrolled": false
   },
   "outputs": [],
   "source": [
    "width = 0.5\n",
    "x = att_dat['dir']\n",
    "for n, (l, c) in enumerate((('noncached', 'grey'), ('flushed', 'g'), ('normal', 'b'))):\n",
    "    y = att_dat[l + 'Baseline']\n",
    "    #plt.plot(x, y, label = l, color = c)\n",
    "    plt.bar(x*4*width + n*width, y, width, label = l, color = c)\n",
    "\n",
    "plt.legend(loc = 'best')\n",
    "plt.ylabel('% computed')\n",
    "plt.suptitle('Attribute Baselines', fontsize = 16)\n",
    "plt.savefig('doc/att_bl.pdf')\n",
    "!pdfcrop doc/att_bl.pdf doc/att_bl_cropped.pdf > /dev/null\n",
    "plt.savefig('att_bl.png')\n",
    "plt.close()"
   ]
  },
  {
   "cell_type": "markdown",
   "metadata": {},
   "source": [
    "2) ratio{X1}To{X2}: `total.{X1}.computed / total.{X2}.called`\n",
    "- the efficiency of the incremental approach in comparison to the method X2,\n",
    "  i.e. the ratio between actual work done in X1 compared to possible work done with method X2"
   ]
  },
  {
   "cell_type": "code",
   "execution_count": 18,
   "metadata": {
    "collapsed": false
   },
   "outputs": [],
   "source": [
    "x = att_dat['dir']\n",
    "for n, (name, c, ls) in enumerate((('FlushedToNoncached', 'orange', '--'),\n",
    "                            ('NormalToFlushed', 'purple', '-'),\n",
    "                            ('NormalToNoncached', 'r', '-.'))):\n",
    "    y = att_dat['ratio' + name]\n",
    "    plt.plot(x, y, label = name.replace('To', r'$\\rightarrow$'), c = c, ls = ls)\n",
    "    #plt.bar(x*3*width + n*width, y, width, label = l, color = c)\n",
    "\n",
    "plt.legend(loc = 'best')\n",
    "plt.ylabel('%')\n",
    "plt.suptitle('Attribute Ratios', fontsize = 16)\n",
    "plt.savefig('doc/att_r.pdf')\n",
    "!pdfcrop doc/att_r.pdf doc/att_r_cropped.pdf > /dev/null\n",
    "plt.savefig('att_r.png')\n",
    "plt.close()"
   ]
  },
  {
   "cell_type": "markdown",
   "metadata": {},
   "source": [
    "3) speedup{X1}To{X2}: `(total.{X2}.computed / total.{X2}.called) - (total.{X1}.computed / total.{X2}.called)`\n",
    "- = `baseline({X2}) - ratio({X1}, {X2})`\n",
    "- the \"speed-up\" of the incremental approach (normal or flushed) in comparison to the method X2"
   ]
  },
  {
   "cell_type": "code",
   "execution_count": 14,
   "metadata": {
    "collapsed": false,
    "scrolled": true
   },
   "outputs": [],
   "source": [
    "x = att_dat['dir']\n",
    "for n, (l, c) in enumerate((('NormalToNoncached', 'r'),\n",
    "                            ('FlushedToNoncached', 'orange'),\n",
    "                            ('NormalToFlushed', 'yellow'))):\n",
    "    y = att_dat['speedup' + l]\n",
    "    plt.plot(x, y, label = l.replace('To', r'$\\rightarrow$'), color = c)\n",
    "    #plt.bar(x*3*width + n*width, y, width, label = l, color = c)\n",
    "\n",
    "plt.legend(loc = 'best')\n",
    "plt.ylabel('%')\n",
    "plt.suptitle('Attribute Speed-Ups', fontsize = 16)\n",
    "plt.savefig('doc/att_sp.pdf')\n",
    "!pdfcrop doc/att_sp.pdf doc/att_sp_cropped.pdf > /dev/null\n",
    "plt.savefig('att_sp.png')\n",
    "plt.close()"
   ]
  },
  {
   "cell_type": "markdown",
   "metadata": {},
   "source": [
    "## Boxplots for attribute measures"
   ]
  },
  {
   "cell_type": "code",
   "execution_count": 41,
   "metadata": {
    "collapsed": false
   },
   "outputs": [
    {
     "name": "stdout",
     "output_type": "stream",
     "text": [
      "Loaded 31 attribute metrics\n",
      "Loaded 4 attribute metrics\n",
      "Loaded 4 attribute metrics\n"
     ]
    }
   ],
   "source": [
    "att_totals = {}\n",
    "for change in d['changes']:\n",
    "    att_totals[change] = read_att_result(name = 'profiling/splitted/att-percentages_{}.csv'.format(change))"
   ]
  },
  {
   "cell_type": "code",
   "execution_count": 79,
   "metadata": {
    "collapsed": false
   },
   "outputs": [],
   "source": [
    "PRINT_NONCACHED = True\n",
    "fig, axes = plt.subplots(ncols=len(d['changes']))\n",
    "l = ['normal', 'flushed']\n",
    "if PRINT_NONCACHED:\n",
    "    l.append('noncached')\n",
    "for i, change in enumerate(d['changes']):\n",
    "    att_dat = att_totals[change]\n",
    "    axes[i].boxplot([att_dat[name + 'Baseline'] for name in l], labels = [name[0]+name[3] for name in l])\n",
    "    axes[i].set_title(change, fontsize=10)\n",
    "    if i > 0:\n",
    "        axes[i].set_yticklabels([])\n",
    "if PRINT_NONCACHED:\n",
    "    for ax in axes.flatten():\n",
    "        ax.set_ylim([0,1.05])\n",
    "plt.suptitle('Attribute Baselines', fontsize = 16)\n",
    "plt.savefig('doc/att_box_bl.pdf')\n",
    "!pdfcrop doc/att_box_bl.pdf doc/att_box_bl_cropped.pdf > /dev/null\n",
    "plt.savefig('att_box_bl.png')\n",
    "plt.close()"
   ]
  }
 ],
 "metadata": {
  "kernelspec": {
   "display_name": "Python 2",
   "language": "python",
   "name": "python2"
  },
  "language_info": {
   "codemirror_mode": {
    "name": "ipython",
    "version": 2
   },
   "file_extension": ".py",
   "mimetype": "text/x-python",
   "name": "python",
   "nbconvert_exporter": "python",
   "pygments_lexer": "ipython2",
   "version": "2.7.10"
  }
 },
 "nbformat": 4,
 "nbformat_minor": 0
}
