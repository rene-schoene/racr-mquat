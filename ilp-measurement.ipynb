{
 "cells": [
  {
   "cell_type": "code",
   "execution_count": 1,
   "metadata": {
    "collapsed": false
   },
   "outputs": [],
   "source": [
    "import numpy as np\n",
    "import matplotlib.pyplot as plt\n",
    "import matplotlib.axes\n",
    "%matplotlib inline\n",
    "plt.ioff()"
   ]
  },
  {
   "cell_type": "code",
   "execution_count": 2,
   "metadata": {
    "collapsed": false
   },
   "outputs": [],
   "source": [
    "from glob import glob\n",
    "from datetime import datetime\n",
    "from itertools import *\n",
    "from operator import itemgetter\n",
    "import json, sys, traceback"
   ]
  },
  {
   "cell_type": "code",
   "execution_count": 3,
   "metadata": {
    "collapsed": false
   },
   "outputs": [],
   "source": [
    "spec_files = glob('profiling/*/specs')\n",
    "spec_files.sort()\n",
    "specs = [np.genfromtxt(f, delimiter=' ', dtype=int)\n",
    "         for f in spec_files]"
   ]
  },
  {
   "cell_type": "code",
   "execution_count": 4,
   "metadata": {
    "collapsed": false
   },
   "outputs": [],
   "source": [
    "linestyles = [\"-\",\"--\",\"-.\",\":\"]\n",
    "colors = ('blue','black','red','orange','green','magenta','yellow', 'cyan', 'purple', 'firebrick')\n",
    "colorcycle = cycle(colors)\n",
    "lastpe = False\n",
    "line_def = []\n",
    "color_def = []\n",
    "for spec in specs:\n",
    "    pe, comp, impl, mode = (spec[2], spec[4], spec[5], spec[6])\n",
    "    if not lastpe or lastpe != pe:\n",
    "        color = next(colorcycle)\n",
    "        linecycle = cycle(linestyles)\n",
    "    line  = next(linecycle)\n",
    "    lastpe = pe\n",
    "    line_def.append(line)\n",
    "    color_def.append(color)"
   ]
  },
  {
   "cell_type": "code",
   "execution_count": 5,
   "metadata": {
    "collapsed": false
   },
   "outputs": [],
   "source": [
    "def set_keys(*indices):\n",
    "    \"\"\"Returns a function that returns a tuple of key values\"\"\"\n",
    "    def get_keys(seq, indices=indices):\n",
    "        keys = []\n",
    "        for i in indices:\n",
    "            keys.append(seq[i])\n",
    "        return tuple(keys)\n",
    "    return get_keys"
   ]
  },
  {
   "cell_type": "code",
   "execution_count": 6,
   "metadata": {
    "collapsed": false
   },
   "outputs": [],
   "source": [
    "def get_average_times(dat, dirCol, stepCol, timeCol):\n",
    "    if dat.size == 1:\n",
    "        return np.array([np.array([dat.item()[timeCol]])])\n",
    "    dat.sort(order=['dir', 'step'])\n",
    "    result = {}\n",
    "    for (c_dir, c_step), rows in groupby(dat, key=set_keys('dir','step')):\n",
    "        #print c_dir, c_step, rows\n",
    "        c_dir, c_step, total_time, counter = None, None, 0, 0\n",
    "        for row in rows:\n",
    "            if not c_dir:\n",
    "                c_dir = row[dirCol]\n",
    "            if not c_step:\n",
    "                c_step = row[stepCol]\n",
    "            total_time+=row[timeCol]\n",
    "            counter += 1\n",
    "        result.setdefault(c_dir, []).append([c_step, total_time*1.0/counter])\n",
    "    result2 = []\n",
    "    for c_dir, rows in result.iteritems():\n",
    "        inner = []\n",
    "        result2.append([row[1] for row in rows])\n",
    "#        for row in rows:\n",
    "#            inner.append(row[1])\n",
    "#        result2.append(inner)\n",
    "    return np.array([np.array(rows) for rows in result2])"
   ]
  },
  {
   "cell_type": "code",
   "execution_count": 7,
   "metadata": {
    "collapsed": false
   },
   "outputs": [],
   "source": [
    "def is_axis(a):\n",
    "    return not type(a) is np.ndarray"
   ]
  },
  {
   "cell_type": "code",
   "execution_count": 8,
   "metadata": {
    "collapsed": false
   },
   "outputs": [
    {
     "name": "stdout",
     "output_type": "stream",
     "text": [
      "Kinds: {u'strategies': [u'normal', u'flush', u'noncached'], u'changes': [u'update', u'sw', u'res']}\n"
     ]
    }
   ],
   "source": [
    "with open('profiling/kinds.json') as fd:\n",
    "    kinds = json.load(fd)\n",
    "print 'Kinds: {}'.format(kinds)"
   ]
  },
  {
   "cell_type": "markdown",
   "metadata": {},
   "source": [
    "Header = ['timestamp', 'dir', 'step', 'ilp-gen']"
   ]
  },
  {
   "cell_type": "code",
   "execution_count": 9,
   "metadata": {
    "collapsed": false
   },
   "outputs": [],
   "source": [
    "no_split, split_change_only, split_both = 0, 1, 2\n",
    "dat, dat2, dat3 = None, None, None\n",
    "def read_single_result(f, name, dtype, data_column, since):\n",
    "    global dat, dat2, dat3\n",
    "    def convdate(text):\n",
    "        return datetime.strptime(text, '%Y-%m-%dT%H:%M:%S.%f')\n",
    "    def convdir(text):\n",
    "        return int(text[-3:])\n",
    "    def convstep(text):\n",
    "        return int(text[0:2])\n",
    "    def safe_div(a, b):\n",
    "        return a/b if b>0 else \"{}!\".format(a)\n",
    "    dat = np.genfromtxt(f, delimiter=',', names=True, dtype=dtype,\n",
    "                        converters={'timestamp':convdate, 'step':convstep, 'dir': convdir})\n",
    "    if since:\n",
    "        dat = dat[dat['timestamp'] > since ]\n",
    "    dat2 = get_average_times(dat, 1, 2, data_column).transpose()\n",
    "    len_dat = 1 if len(dat.shape) == 0 else len(dat)\n",
    "    if dat2.size == 0:\n",
    "        print 'Did not load any record for {}'.format(name)\n",
    "    else:\n",
    "        print 'Loaded {0} record(s) for {1} ({2[0]}x{2[1]} unique) ~= {3} run(s)'.format(\n",
    "            len_dat, name, dat2.shape, safe_div(len_dat,dat2.size))\n",
    "    dat3 = dat2\n",
    "    return dat2\n",
    "\n",
    "def read_results(prefix, name, dtype, data_column, since, splitted = no_split):\n",
    "    if splitted in (split_change_only, split_both):\n",
    "        result = {}\n",
    "        for change in kinds['changes']:\n",
    "            result.setdefault(change, {})\n",
    "            if splitted == split_both:\n",
    "                for strategy in kinds['strategies']:\n",
    "                    result[change].setdefault(strategy, {})\n",
    "                    new_name = '{0}_{1}_{2}'.format(change, strategy, name)\n",
    "                    f = 'profiling/splitted/{0}_{1}.csv'.format(prefix, new_name)\n",
    "                    result[change][strategy] = read_single_result(f, new_name, dtype, data_column, since)\n",
    "            else: # splitted == split_change_only\n",
    "                new_name = '{0}_{1}'.format(change, name)\n",
    "                f = 'profiling/splitted/{0}_{1}.csv'.format(prefix, new_name)\n",
    "                result[change] = read_single_result(f, new_name, dtype, data_column, since)\n",
    "        return result\n",
    "    else: # splitted = no_split\n",
    "        f = 'profiling/{0}-{1}-results.csv'.format(prefix, name)\n",
    "        return read_single_result(f, name, dtype, data_column, since)"
   ]
  },
  {
   "cell_type": "markdown",
   "metadata": {},
   "source": [
    "# Need testing, if still working with change kinds"
   ]
  },
  {
   "cell_type": "code",
   "execution_count": 10,
   "metadata": {
    "collapsed": false
   },
   "outputs": [],
   "source": [
    "def read_gen_results(impl, since = None):\n",
    "    return read_results('gen', impl, ('datetime64[us]', int, int, float), 3, since, splitted = split_both)\n",
    "def read_sol_results(solver, since = None):\n",
    "    return read_results('sol', solver, ('datetime64[us]', int, int, int, int, int, float, float), 7, since,\n",
    "                        splitted = split_change_only)\n",
    "def read_att_result(name = 'profiling/att-percentages.csv'):\n",
    "    def cdir(text):\n",
    "        prefix = text[:-4]\n",
    "        number = int(text[-3:])\n",
    "        if prefix == 'update':\n",
    "            return number\n",
    "        elif prefix == 'sw':\n",
    "            return 31+number\n",
    "        elif prefix == 'res':\n",
    "            return 35+number\n",
    "        elif prefix == '':\n",
    "            pass\n",
    "        else:\n",
    "            print 'Unknown prefix \"{0}\"'.format(prefix)\n",
    "    dat = np.genfromtxt(name, delimiter=',', names=True,\n",
    "                        #dtype=(int, float, float, float, float, float, float, float),\n",
    "                        converters={'dir': cdir})\n",
    "    dat.sort(axis=0)\n",
    "    print 'Loaded {0} attribute metric(s)'.format(len(dat))\n",
    "    return dat"
   ]
  },
  {
   "cell_type": "code",
   "execution_count": 11,
   "metadata": {
    "collapsed": false
   },
   "outputs": [],
   "source": [
    "def safe(a, i, start = 0):\n",
    "    try:\n",
    "        return a[start:,i]\n",
    "    except IndexError:\n",
    "        return np.zeros(a[:,0].size)\n",
    "\n",
    "def es(y, x):\n",
    "    \"\"\" Ensure size of y compared to x \"\"\"\n",
    "    if y.shape[0] != x.shape[0]:\n",
    "        y = np.ones(x.shape[0]) * y[0]\n",
    "    return y"
   ]
  },
  {
   "cell_type": "markdown",
   "metadata": {},
   "source": [
    "## ILP-Re-Generation and Solving Time\n",
    "\n",
    "- ILP-Re-Generation describes the time it takes for the Scheme implementations to evaluate the attribute computing the ILP\n",
    "    - it does not include the time to read from and write to disk\n",
    "    - \"Java\" denotes the Java- and EMF-based generation\n",
    "- ILP Solving describes the time it takes the solvers (GLPK and Gurobi in this case) to solve the generated ILP\n",
    "    - \"GLPK (Java)\" denotes the time to solve the ILP generated by the Java-based generation with GLPK. Its format was modifiert slightly to be accepted by GLPK, as it was originally generated for lp_solve\n",
    "    - \"GLPK (Scheme)\" denotes the time to solve the ILP generated by any scheme implementation with GLPK\n",
    "- the plots show different system configurations\n",
    "    - a system configuration is given by \"r x ( c \\* i \\* m )\", which describes a system with *r* resources and *c* software components with *i* implementations having *m* modes each.\n",
    "- for one such configuration the same experiment is run, i.e. the system is modified 7 times leading to the 7 steps, whereas only changes on hardware resources are made\n",
    "    - for the cases involving Java (both, generation and solving), the same time is used for every step, as the generation always starts from skretch. Further, the changes (e.g. change the value of a single hardware resource while generation) can not be reflected by the Java System Generator\n",
    "- on the x-axis, the steps of this manipulation are shown\n",
    "    - the initial generation of the ILP (step zero) is only shown below in numbers, as it would skew the diagrams"
   ]
  },
  {
   "cell_type": "markdown",
   "metadata": {},
   "source": [
    "Header = ['timestamp', 'dir', 'step', 'rows', 'cols', 'non-zero', 'ilp-sol', 'ti-ilp-sol']"
   ]
  },
  {
   "cell_type": "code",
   "execution_count": 12,
   "metadata": {
    "collapsed": false,
    "scrolled": false
   },
   "outputs": [
    {
     "name": "stdout",
     "output_type": "stream",
     "text": [
      "Loaded 1072 record(s) for update_normal_plt-r6rs (8x31 unique) ~= 4 run(s)\n",
      "Loaded 256 record(s) for update_flush_plt-r6rs (8x31 unique) ~= 1 run(s)\n",
      "Loaded 848 record(s) for update_noncached_plt-r6rs (8x31 unique) ~= 3 run(s)\n",
      "Loaded 147 record(s) for sw_normal_plt-r6rs (7x4 unique) ~= 5 run(s)\n",
      "Loaded 28 record(s) for sw_flush_plt-r6rs (7x4 unique) ~= 1 run(s)\n",
      "Loaded 602 record(s) for sw_noncached_plt-r6rs (7x31 unique) ~= 2 run(s)\n",
      "Loaded 143 record(s) for res_normal_plt-r6rs (7x4 unique) ~= 5 run(s)\n",
      "Loaded 28 record(s) for res_flush_plt-r6rs (7x4 unique) ~= 1 run(s)\n",
      "Loaded 392 record(s) for res_noncached_plt-r6rs (7x31 unique) ~= 1 run(s)\n",
      "Loaded 264 record(s) for update_normal_larceny (8x31 unique) ~= 1 run(s)\n",
      "Loaded 1 record(s) for update_flush_larceny (1x1 unique) ~= 1 run(s)\n",
      "Loaded 1 record(s) for update_noncached_larceny (1x1 unique) ~= 1 run(s)\n",
      "Loaded 1 record(s) for sw_normal_larceny (1x1 unique) ~= 1 run(s)\n",
      "Loaded 1 record(s) for sw_flush_larceny (1x1 unique) ~= 1 run(s)\n",
      "Loaded 1 record(s) for sw_noncached_larceny (1x1 unique) ~= 1 run(s)\n",
      "Loaded 1 record(s) for res_normal_larceny (1x1 unique) ~= 1 run(s)\n",
      "Loaded 1 record(s) for res_flush_larceny (1x1 unique) ~= 1 run(s)\n",
      "Loaded 1 record(s) for res_noncached_larceny (1x1 unique) ~= 1 run(s)\n",
      "Loaded 88 record(s) for update_normal_java (1x31 unique) ~= 2 run(s)\n",
      "Loaded 1 record(s) for update_flush_java (1x1 unique) ~= 1 run(s)\n",
      "Loaded 1 record(s) for update_noncached_java (1x1 unique) ~= 1 run(s)\n",
      "Loaded 1 record(s) for sw_normal_java (1x1 unique) ~= 1 run(s)\n",
      "Loaded 1 record(s) for sw_flush_java (1x1 unique) ~= 1 run(s)\n",
      "Loaded 1 record(s) for sw_noncached_java (1x1 unique) ~= 1 run(s)\n",
      "Loaded 1 record(s) for res_normal_java (1x1 unique) ~= 1 run(s)\n",
      "Loaded 1 record(s) for res_flush_java (1x1 unique) ~= 1 run(s)\n",
      "Loaded 1 record(s) for res_noncached_java (1x1 unique) ~= 1 run(s)\n"
     ]
    }
   ],
   "source": [
    "racket_dats  = read_gen_results('plt-r6rs', since = datetime(2015,8,17,0,0,0))\n",
    "larceny_dats = read_gen_results('larceny', since = datetime(2015,6,12,0,0,0))\n",
    "java_dats    = read_gen_results('java')"
   ]
  },
  {
   "cell_type": "code",
   "execution_count": 13,
   "metadata": {
    "collapsed": false,
    "scrolled": true
   },
   "outputs": [
    {
     "name": "stdout",
     "output_type": "stream",
     "text": [
      "Loaded 23 record(s) for update_java (1x23 unique) ~= 1 run(s)\n",
      "Loaded 1 record(s) for sw_java (1x1 unique) ~= 1 run(s)\n",
      "Loaded 1 record(s) for res_java (1x1 unique) ~= 1 run(s)\n",
      "Loaded 1656 record(s) for update_glpk (8x23 unique) ~= 9 run(s)\n",
      "Loaded 1 record(s) for sw_glpk (1x1 unique) ~= 1 run(s)\n",
      "Loaded 1 record(s) for res_glpk (1x1 unique) ~= 1 run(s)\n",
      "Loaded 216 record(s) for update_gurobi (8x27 unique) ~= 1 run(s)\n",
      "Loaded 1 record(s) for sw_gurobi (1x1 unique) ~= 1 run(s)\n",
      "Loaded 1 record(s) for res_gurobi (1x1 unique) ~= 1 run(s)\n"
     ]
    }
   ],
   "source": [
    "java_glpk_dats = read_sol_results('java', since = datetime(2015,6,22,0,0,0))\n",
    "glpk_dats      = read_sol_results('glpk')\n",
    "gurobi_dats    = read_sol_results('gurobi')"
   ]
  },
  {
   "cell_type": "code",
   "execution_count": 14,
   "metadata": {
    "collapsed": true
   },
   "outputs": [],
   "source": [
    "p_ax_nr, p_line_def, p_col_def, p_label   = 0, 1, 2, 3\n",
    "p_gen_racket, p_gen_larceny, p_gen_java   = 4, 5, 6\n",
    "p_sol_glpk, p_sol_gurobi, p_sol_java_glpk = 4, 5, 6"
   ]
  },
  {
   "cell_type": "code",
   "execution_count": 20,
   "metadata": {
    "collapsed": false,
    "scrolled": false
   },
   "outputs": [],
   "source": [
    "def draw_gen(changeName, strategy, params):\n",
    "    try:\n",
    "        name = 'gen_{0}_{1}'.format(changeName, strategy)\n",
    "        # needed number of axes equals ax_nr+1 now\n",
    "        f, ax_arr = plt.subplots(nrows = ax_nr+1, ncols = 3, sharex=True, sharey=True)\n",
    "        f.set_size_inches(25.5,3.5*(ax_nr+1))\n",
    "        one_plot = ax_arr.shape[1] == 1\n",
    "\n",
    "        f.patch.set_facecolor('none')\n",
    "        f.patch.set_alpha(0.0)\n",
    "\n",
    "        lines, labels = [], []\n",
    "        for p in params:\n",
    "            ax_tup = ax_arr if one_plot else ax_arr[p[p_ax_nr]]\n",
    "            ax_j = ax_tup[0]\n",
    "            ax_r = ax_tup[1]\n",
    "            ax_l = ax_tup[2]\n",
    "        #    ax_j.set_ylim([0,50])\n",
    "        #    ax_r.set_ylim([0,10])\n",
    "        #    ax_l.set_ylim([0,10])\n",
    "        #    x_g = np.array(xrange(1,len(p[1])+1)) # start at one, since first gen-time is cut\n",
    "            x_g = np.array(xrange(START_STEP,len(p[p_gen_racket])+START_STEP)) # start at zero\n",
    "            line_java    = ax_j.plot(x_g, p[p_gen_java][0]*np.ones(len(p[p_gen_racket])), ls = p[p_line_def],\n",
    "                                     c = p[p_col_def], label = p[p_label])\n",
    "            line_racket  = ax_r.plot(x_g, es(p[p_gen_racket], x_g), ls = p[p_line_def],\n",
    "                                     c = p[p_col_def], label = p[p_label])\n",
    "            line_larceny = ax_l.plot(x_g, es(p[p_gen_larceny], x_g), ls = p[p_line_def],\n",
    "                                     c = p[p_col_def], label = p[p_label])\n",
    "            ax_l.legend(loc='upper left', bbox_to_anchor=(1, 1.02))\n",
    "            lines.append(line_racket[0])\n",
    "            labels.append(p[p_label])\n",
    "\n",
    "        for ax in ax_arr if one_plot else ax_arr.flatten():\n",
    "            ax.set_ylabel('seconds')\n",
    "            ax.patch.set_alpha(1)\n",
    "            ax.patch.set_facecolor('white')\n",
    "\n",
    "        first_ax = ax_arr if one_plot else ax_arr[0]\n",
    "        plt.suptitle('ILP Generation Time', fontsize = 16)\n",
    "        first_ax[0].set_title('Java')\n",
    "        first_ax[1].set_title('Racket')\n",
    "        first_ax[2].set_title('Larceny')\n",
    "\n",
    "        # Fine-tune figure; make subplots close to each other and hide x ticks for\n",
    "        # all but bottom plots.\n",
    "        f.subplots_adjust(hspace=0.2)\n",
    "        plt.setp([a.get_xticklabels() for a in f.axes[:-3]], visible=False)\n",
    "        plt.setp([a.get_yticklabels() for a in f.axes], visible=True)\n",
    "        plt.savefig('doc/{}.pdf'.format(name), facecolor=f.get_facecolor(), edgecolor='none')\n",
    "        plt.savefig('{}.png'.format(name), facecolor=f.get_facecolor(), edgecolor='none')\n",
    "    except Exception as e:\n",
    "        print 'Error while drawing gen in {0}-{1}: {2}'.format(change, strategy, e)\n",
    "        traceback.print_exc(file=sys.stdout)\n",
    "    finally:\n",
    "        plt.close()"
   ]
  },
  {
   "cell_type": "code",
   "execution_count": 21,
   "metadata": {
    "collapsed": false
   },
   "outputs": [],
   "source": [
    "def draw_sol(changeName, params):\n",
    "    try:\n",
    "        name = 'sol_{}'.format(changeName)\n",
    "        f, ax_arr = plt.subplots(nrows = ax_nr+1, ncols = 3, sharex=True, sharey=True)\n",
    "        f.set_size_inches(25.5,3.5*(ax_nr+1))\n",
    "        one_plot = ax_arr.shape[1] == 1\n",
    "\n",
    "        f.patch.set_facecolor('none')\n",
    "        f.patch.set_alpha(0.0)\n",
    "\n",
    "        lines, labels = [], []\n",
    "        for p in params:\n",
    "            ax_tup = ax_arr if one_plot else ax_arr[p[p_ax_nr]]\n",
    "            ax_javaglpk = ax_tup[0]\n",
    "            ax_glpk     = ax_tup[1]\n",
    "            ax_gurobi   = ax_tup[2]\n",
    "            x = np.array(xrange(0,len(p[p_sol_glpk]))) # start at zero\n",
    "            line_javaglpk = ax_javaglpk.plot(x, p[p_sol_java_glpk][0]*np.ones(len(p[p_sol_glpk])), ls = p[p_line_def],\n",
    "                                             c = p[p_col_def], label = p[p_label])\n",
    "            line_glpk     = ax_glpk.plot(x, es(p[p_sol_glpk],x), ls = p[p_line_def],\n",
    "                                         c = p[p_col_def], label = p[p_label])\n",
    "            line_gurobi   = ax_gurobi.plot(x, es(p[p_sol_gurobi],x), ls = p[p_line_def],\n",
    "                                           c = p[p_col_def], label = p[p_label])\n",
    "            ax_gurobi.legend(loc='upper left', bbox_to_anchor=(1, 1.02))\n",
    "            lines.append(line_glpk[0])\n",
    "            labels.append(p[p_label])\n",
    "\n",
    "        for ax in ax_arr if one_plot else ax_arr.flatten():\n",
    "            ax.set_ylabel('seconds')\n",
    "            ax.patch.set_alpha(1)\n",
    "            ax.patch.set_facecolor('white')\n",
    "\n",
    "        first_ax = ax_arr if one_plot else ax_arr[0]\n",
    "        plt.suptitle('ILP Solving Time', fontsize = 16)\n",
    "        first_ax[0].set_title('GLPK (Java)')\n",
    "        first_ax[1].set_title('GLPK (Scheme)')\n",
    "        first_ax[2].set_title('Gurobi (Scheme)')\n",
    "\n",
    "        # Fine-tune figure; make subplots close to each other and hide x ticks for\n",
    "        # all but bottom plots.\n",
    "        f.subplots_adjust(hspace=0.2)\n",
    "        plt.setp([a.get_xticklabels() for a in f.axes[:-3]], visible=False)\n",
    "        plt.setp([a.get_yticklabels() for a in f.axes], visible=True)\n",
    "        plt.savefig('doc/{}.pdf'.format(name))\n",
    "        plt.savefig('{}.png'.format(name))\n",
    "    except Exception as e:\n",
    "        print 'Error while drawing sol in {0}: {1}'.format(changeName, e)\n",
    "        traceback.print_exc(file=sys.stdout)\n",
    "    finally:\n",
    "        plt.close()"
   ]
  },
  {
   "cell_type": "code",
   "execution_count": 22,
   "metadata": {
    "collapsed": false,
    "scrolled": true
   },
   "outputs": [],
   "source": [
    "def draw_comp_sol(changeName, params):\n",
    "    try:\n",
    "        name = 'comp_sol_{}'.format(changeName)\n",
    "        indices = [3, 12, 14, 19]\n",
    "        for i in indices:\n",
    "            p = params[i]\n",
    "            x = np.array(xrange(0,len(p[p_sol_glpk]))) # start at zero\n",
    "            line_javaglpk = plt.plot(x, p[p_sol_java_glpk][0]*np.ones(len(p[p_sol_glpk])), ls = linestyles[0],\n",
    "                                     c = p[p_col_def], label = p[p_label])\n",
    "            line_glpk     = plt.plot(x, es(p[p_sol_glpk],x), ls = p[p_line_def], c = p[p_col_def])\n",
    "            line_gurobi   = plt.plot(x, es(p[p_sol_gurobi],x), ls = p[p_line_def], c = p[p_col_def])\n",
    "        plt.legend(loc = 'right')\n",
    "        plt.ylabel('seconds')\n",
    "        plt.suptitle('ILP Solving Time - Comparison', fontsize = 16)\n",
    "        plt.savefig('doc/{}.pdf'.format(name))\n",
    "        plt.savefig('{}.png'.format(name))\n",
    "    except Exception as e:\n",
    "        print 'Error while drawing comp-sol in {0}: {1}'.format(changeName, e)\n",
    "        traceback.print_exc(file=sys.stdout)\n",
    "    finally:\n",
    "        plt.close()"
   ]
  },
  {
   "cell_type": "code",
   "execution_count": 18,
   "metadata": {
    "collapsed": false,
    "scrolled": true
   },
   "outputs": [
    {
     "name": "stdout",
     "output_type": "stream",
     "text": [
      "Change = update\n",
      "Stategy = normal\n",
      "Stategy = flush\n",
      "Stategy = noncached\n",
      "Change = sw\n",
      "Stategy = normal\n",
      "Stategy = flush\n",
      "Stategy = noncached\n",
      "Change = res\n",
      "Stategy = normal\n",
      "Stategy = flush\n",
      "Stategy = noncached\n"
     ]
    }
   ],
   "source": [
    "START_STEP, MAX_PLOTS_IN_ONE = 0, 7\n",
    "for change in kinds['changes']:\n",
    "    print 'Change = {}'.format(change)\n",
    "    for strategy in kinds['strategies']:\n",
    "        print 'Stategy = {}'.format(strategy)\n",
    "        current_plot, ax_nr, last_res = 0, 0, -1\n",
    "        gen_params = []\n",
    "        for i in xrange(len(specs)):\n",
    "            current_res = specs[i][2]\n",
    "            current_plot += 1\n",
    "            if current_plot > MAX_PLOTS_IN_ONE and last_res != current_res:\n",
    "                ax_nr += 1\n",
    "                current_plot = 0\n",
    "            gen_params.append([ax_nr, line_def[i], color_def[i], '{2:d} x ({4}*{5}*{6})'.format(*specs[i]),\n",
    "                               safe(racket_dats[change][strategy],i,START_STEP),\n",
    "                               safe(larceny_dats[change][strategy],i,START_STEP),\n",
    "                               safe(java_dats[change][strategy],i)])\n",
    "            last_res = current_res\n",
    "        draw_gen(change, strategy, gen_params)\n",
    "        # end of for strategies\n",
    "    sol_params = []\n",
    "    for i in xrange(len(specs)):\n",
    "        current_res = specs[i][2]\n",
    "        current_plot += 1\n",
    "        if current_plot > MAX_PLOTS_IN_ONE and last_res != current_res:\n",
    "            ax_nr += 1\n",
    "            current_plot = 0\n",
    "        sol_params.append([ax_nr, line_def[i], color_def[i], '{2:d} x ({4}*{5}*{6})'.format(*specs[i]),\n",
    "                           safe(glpk_dats[change],i),\n",
    "                           safe(gurobi_dats[change],i),\n",
    "                           safe(java_glpk_dats[change],i)])\n",
    "    draw_sol(change, sol_params)\n",
    "    draw_comp_sol(change, sol_params)"
   ]
  },
  {
   "cell_type": "markdown",
   "metadata": {},
   "source": [
    "## Boxplots for generation times"
   ]
  },
  {
   "cell_type": "code",
   "execution_count": 19,
   "metadata": {
    "collapsed": false
   },
   "outputs": [
    {
     "name": "stdout",
     "output_type": "stream",
     "text": [
      "java:\n",
      "update normal,flush,noncached,sw normal,flush,noncached,res normal,flush,noncached,\n",
      "racket:\n",
      "update normal,flush,noncached,sw normal,flush,noncached,res normal,flush,noncached,\n",
      "larceny:\n",
      "update normal,flush,noncached,sw normal,flush,noncached,res normal,flush,noncached,\n"
     ]
    }
   ],
   "source": [
    "for (data, name) in ((java_dats, 'java'), (racket_dats, 'racket'), (larceny_dats, 'larceny')):\n",
    "    print name+':'\n",
    "    #change, strategy = 'update', 'normal'\n",
    "    for change in kinds['changes']:\n",
    "    #if True:\n",
    "        sys.stdout.write(change+' ')\n",
    "    #    if True:\n",
    "        for strategy in kinds['strategies']:\n",
    "            sys.stdout.write(strategy+',')\n",
    "            cdat = data[change][strategy]\n",
    "            plt.boxplot(cdat.transpose())\n",
    "            plt.title('{0} {1} {2}'.format(name.title(), change.title(), strategy.title()))\n",
    "            plt.ylabel('seconds')\n",
    "            plt.xlabel('time')\n",
    "            plt.savefig('gen_bp_{0}_{1}_{2}.png'.format(name,change,strategy))\n",
    "            plt.savefig('doc/gen_bp_{0}_{1}_{2}.pdf'.format(name,change,strategy))\n",
    "            plt.close()\n",
    "    print ''"
   ]
  },
  {
   "cell_type": "markdown",
   "metadata": {},
   "source": [
    "## Boxplot for solving times"
   ]
  },
  {
   "cell_type": "code",
   "execution_count": 24,
   "metadata": {
    "collapsed": false
   },
   "outputs": [
    {
     "name": "stdout",
     "output_type": "stream",
     "text": [
      "java:\n",
      "update sw res \n",
      "glpk:\n",
      "update sw res \n",
      "gurobi:\n",
      "update sw res \n"
     ]
    }
   ],
   "source": [
    "for (data, name) in ((java_glpk_dats, 'java'), (glpk_dats, 'glpk'), (gurobi_dats, 'gurobi')):\n",
    "    print name+':'\n",
    "    #change = 'update'\n",
    "    for change in kinds['changes']:\n",
    "    #if True:\n",
    "        sys.stdout.write(change+' ')\n",
    "    #    if True:\n",
    "        cdat = data[change]\n",
    "        plt.boxplot(cdat.transpose())\n",
    "        plt.title('{0} {1}'.format(name.title(), change.title()))\n",
    "        plt.ylabel('seconds')\n",
    "        plt.xlabel('time')\n",
    "        plt.savefig('sol_bp_{0}_{1}.png'.format(name,change))\n",
    "        plt.savefig('doc/sol_bp_{0}_{1}_{2}.pdf'.format(name,change,strategy))\n",
    "        plt.close()\n",
    "    print ''"
   ]
  },
  {
   "cell_type": "markdown",
   "metadata": {},
   "source": [
    "## Times for initial generation of the ILP"
   ]
  },
  {
   "cell_type": "code",
   "execution_count": 17,
   "metadata": {
    "collapsed": false,
    "scrolled": true
   },
   "outputs": [
    {
     "data": {
      "text/plain": [
       "(array([  0.82 ,   0.239,   2.284,  19.2  ,   0.21 ,   0.319,   3.414,\n",
       "         27.39 ,   1.433,   2.482,   3.342,   6.396,  10.884,  12.314,\n",
       "         14.289,  15.988,  21.376,  26.704,  32.28 ,  24.226,  29.95 ,\n",
       "         36.352,  43.842,   3.219,   7.972,  12.263,  17.145,   0.352,\n",
       "          0.763,   2.226,   9.606]),\n",
       " array([  0.17  ,   0.187 ,   1.766 ,  11.3   ,   0.3   ,   0.403 ,\n",
       "          3.304 ,  22.73  ,   1.439 ,   2.375 ,   3.521 ,   6.308 ,\n",
       "         10.359 ,  12.319 ,  15.182 ,  18.13  ,  22.5205,  27.992 ,\n",
       "         32.143 ,  25.217 ,  30.606 ,  38.144 ,  45.88  ,   4.294 ,\n",
       "          9.545 ,  16.402 ,  24.272 ,   0.362 ,   0.711 ,   1.518 ,   3.948 ]))"
      ]
     },
     "execution_count": 17,
     "metadata": {},
     "output_type": "execute_result"
    }
   ],
   "source": [
    "(racket_dat[0], larceny_dat[0])"
   ]
  },
  {
   "cell_type": "markdown",
   "metadata": {},
   "source": [
    "## Attribute metrics\n",
    "\n",
    "- X = {normal, flushed, noncached}\n",
    "- (X1,X2) = {(normal, flushed), (normal, noncached), (flushed, noncached)}"
   ]
  },
  {
   "cell_type": "code",
   "execution_count": 25,
   "metadata": {
    "collapsed": false,
    "scrolled": true
   },
   "outputs": [
    {
     "name": "stdout",
     "output_type": "stream",
     "text": [
      "Loaded 76 attribute metric(s)\n"
     ]
    },
    {
     "data": {
      "text/plain": [
       "dtype([('dir', '<f8'), ('normalBaseline', '<f8'), ('flushedBaseline', '<f8'), ('noncachedBaseline', '<f8'), ('ratioNormalToFlushed', '<f8'), ('ratioNormalToNoncached', '<f8'), ('ratioFlushedToNoncached', '<f8'), ('speedupNormalToFlushed', '<f8'), ('speedupNormalToNoncached', '<f8'), ('speedupFlushedToNoncached', '<f8')])"
      ]
     },
     "execution_count": 25,
     "metadata": {},
     "output_type": "execute_result"
    }
   ],
   "source": [
    "att_dat = read_att_result()\n",
    "att_dat.dtype"
   ]
  },
  {
   "cell_type": "markdown",
   "metadata": {},
   "source": [
    "1) {X}basline: `total.X.computed / total.X.called`\n",
    "- the baseline of the method X"
   ]
  },
  {
   "cell_type": "code",
   "execution_count": 26,
   "metadata": {
    "collapsed": false,
    "scrolled": false
   },
   "outputs": [],
   "source": [
    "width = 0.5\n",
    "x = att_dat['dir']\n",
    "for n, (l, c) in enumerate((('noncached', 'grey'), ('flushed', 'g'), ('normal', 'b'))):\n",
    "    y = att_dat[l + 'Baseline']\n",
    "    #plt.plot(x, y, label = l, color = c)\n",
    "    plt.bar(x*4*width + n*width, y, width, label = l, color = c)\n",
    "\n",
    "plt.legend(loc = 'best')\n",
    "plt.ylabel('% computed')\n",
    "plt.suptitle('Attribute Baselines', fontsize = 16)\n",
    "plt.savefig('doc/att_bl.pdf')\n",
    "!pdfcrop doc/att_bl.pdf doc/att_bl_cropped.pdf > /dev/null\n",
    "plt.savefig('att_bl.png')\n",
    "plt.close()"
   ]
  },
  {
   "cell_type": "markdown",
   "metadata": {},
   "source": [
    "2) ratio{X1}To{X2}: `total.{X1}.computed / total.{X2}.called`\n",
    "- the efficiency of the incremental approach in comparison to the method X2,\n",
    "  i.e. the ratio between actual work done in X1 compared to possible work done with method X2"
   ]
  },
  {
   "cell_type": "code",
   "execution_count": 27,
   "metadata": {
    "collapsed": false
   },
   "outputs": [],
   "source": [
    "x = att_dat['dir']\n",
    "for n, (name, c, ls) in enumerate((('FlushedToNoncached', 'orange', '--'),\n",
    "                            ('NormalToFlushed', 'purple', '-'),\n",
    "                            ('NormalToNoncached', 'r', '-.'))):\n",
    "    y = att_dat['ratio' + name]\n",
    "    plt.plot(x, y, label = name.replace('To', r'$\\rightarrow$'), c = c, ls = ls)\n",
    "    #plt.bar(x*3*width + n*width, y, width, label = l, color = c)\n",
    "\n",
    "plt.legend(loc = 'best')\n",
    "plt.ylabel('%')\n",
    "plt.suptitle('Attribute Ratios', fontsize = 16)\n",
    "plt.savefig('doc/att_r.pdf')\n",
    "!pdfcrop doc/att_r.pdf doc/att_r_cropped.pdf > /dev/null\n",
    "plt.savefig('att_r.png')\n",
    "plt.close()"
   ]
  },
  {
   "cell_type": "markdown",
   "metadata": {},
   "source": [
    "3) speedup{X1}To{X2}: `(total.{X2}.computed / total.{X2}.called) - (total.{X1}.computed / total.{X2}.called)`\n",
    "- = `baseline({X2}) - ratio({X1}, {X2})`\n",
    "- the \"speed-up\" of the incremental approach (normal or flushed) in comparison to the method X2"
   ]
  },
  {
   "cell_type": "code",
   "execution_count": 28,
   "metadata": {
    "collapsed": false,
    "scrolled": true
   },
   "outputs": [],
   "source": [
    "x = att_dat['dir']\n",
    "for n, (l, c) in enumerate((('NormalToNoncached', 'r'),\n",
    "                            ('FlushedToNoncached', 'orange'),\n",
    "                            ('NormalToFlushed', 'yellow'))):\n",
    "    y = att_dat['speedup' + l]\n",
    "    plt.plot(x, y, label = l.replace('To', r'$\\rightarrow$'), color = c)\n",
    "    #plt.bar(x*3*width + n*width, y, width, label = l, color = c)\n",
    "\n",
    "plt.legend(loc = 'best')\n",
    "plt.ylabel('%')\n",
    "plt.suptitle('Attribute Speed-Ups', fontsize = 16)\n",
    "plt.savefig('doc/att_sp.pdf')\n",
    "!pdfcrop doc/att_sp.pdf doc/att_sp_cropped.pdf > /dev/null\n",
    "plt.savefig('att_sp.png')\n",
    "plt.close()"
   ]
  },
  {
   "cell_type": "markdown",
   "metadata": {},
   "source": [
    "## Boxplots for attribute measures\n",
    "\n",
    "→ TODO: make seperate boxplots for each strategy"
   ]
  },
  {
   "cell_type": "code",
   "execution_count": 30,
   "metadata": {
    "collapsed": false
   },
   "outputs": [
    {
     "name": "stdout",
     "output_type": "stream",
     "text": [
      "Loaded 31 attribute metric(s)\n",
      "Loaded 31 attribute metric(s)\n",
      "Loaded 14 attribute metric(s)\n"
     ]
    }
   ],
   "source": [
    "att_totals = {}\n",
    "for change in kinds['changes']:\n",
    "    att_totals[change] = read_att_result(name = 'profiling/splitted/att-percentages_{}.csv'.format(change))"
   ]
  },
  {
   "cell_type": "code",
   "execution_count": 32,
   "metadata": {
    "collapsed": false
   },
   "outputs": [],
   "source": [
    "PRINT_NONCACHED = True\n",
    "fig, axes = plt.subplots(ncols=len(kinds['changes']))\n",
    "l = ['normal', 'flushed']\n",
    "if PRINT_NONCACHED:\n",
    "    l.append('noncached')\n",
    "for i, change in enumerate(kinds['changes']):\n",
    "    att_dat = att_totals[change]\n",
    "    axes[i].boxplot([att_dat[name + 'Baseline'] for name in l], labels = [name[0]+name[3] for name in l])\n",
    "    axes[i].set_title(change, fontsize=10)\n",
    "    if i > 0:\n",
    "        axes[i].set_yticklabels([])\n",
    "if PRINT_NONCACHED:\n",
    "    for ax in axes.flatten():\n",
    "        ax.set_ylim([0,1.05])\n",
    "plt.suptitle('Attribute Baselines', fontsize = 16)\n",
    "plt.savefig('doc/att_box_bl.pdf')\n",
    "!pdfcrop doc/att_box_bl.pdf doc/att_box_bl_cropped.pdf > /dev/null\n",
    "plt.savefig('att_box_bl.png')\n",
    "plt.close()"
   ]
  }
 ],
 "metadata": {
  "kernelspec": {
   "display_name": "Python 2",
   "language": "python",
   "name": "python2"
  },
  "language_info": {
   "codemirror_mode": {
    "name": "ipython",
    "version": 2
   },
   "file_extension": ".py",
   "mimetype": "text/x-python",
   "name": "python",
   "nbconvert_exporter": "python",
   "pygments_lexer": "ipython2",
   "version": "2.7.10"
  }
 },
 "nbformat": 4,
 "nbformat_minor": 0
}
